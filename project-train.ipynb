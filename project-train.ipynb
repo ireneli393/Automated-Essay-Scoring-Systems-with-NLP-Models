{
 "cells": [
  {
   "cell_type": "markdown",
   "id": "6c88349f",
   "metadata": {
    "papermill": {
     "duration": 0.010077,
     "end_time": "2024-05-05T22:29:18.689215",
     "exception": false,
     "start_time": "2024-05-05T22:29:18.679138",
     "status": "completed"
    },
    "tags": []
   },
   "source": [
    "# About this notebook\n",
    "- Deberta-v3-base starter code\n",
    "- pip wheels is [here](https://www.kaggle.com/code/yasufuminakama/fb3-pip-wheels)\n",
    "- Inference notebook is [here](https://www.kaggle.com/yasufuminakama/fb3-deberta-v3-base-baseline-inference)\n",
    "\n",
    "If this notebook is helpful, feel free to upvote :)"
   ]
  },
  {
   "cell_type": "markdown",
   "id": "dc25c2a9",
   "metadata": {
    "papermill": {
     "duration": 0.008023,
     "end_time": "2024-05-05T22:29:18.706036",
     "exception": false,
     "start_time": "2024-05-05T22:29:18.698013",
     "status": "completed"
    },
    "tags": []
   },
   "source": [
    "# Directory settings"
   ]
  },
  {
   "cell_type": "code",
   "execution_count": 1,
   "id": "fd000c87",
   "metadata": {
    "execution": {
     "iopub.execute_input": "2024-05-05T22:29:18.724420Z",
     "iopub.status.busy": "2024-05-05T22:29:18.724001Z",
     "iopub.status.idle": "2024-05-05T22:29:18.735489Z",
     "shell.execute_reply": "2024-05-05T22:29:18.734563Z"
    },
    "papermill": {
     "duration": 0.023241,
     "end_time": "2024-05-05T22:29:18.737716",
     "exception": false,
     "start_time": "2024-05-05T22:29:18.714475",
     "status": "completed"
    },
    "tags": []
   },
   "outputs": [],
   "source": [
    "# ====================================================\n",
    "# Directory settings\n",
    "# ====================================================\n",
    "import os\n",
    "\n",
    "OUTPUT_DIR = './'\n",
    "if not os.path.exists(OUTPUT_DIR):\n",
    "    os.makedirs(OUTPUT_DIR)"
   ]
  },
  {
   "cell_type": "markdown",
   "id": "457a59f9",
   "metadata": {
    "papermill": {
     "duration": 0.008199,
     "end_time": "2024-05-05T22:29:18.754113",
     "exception": false,
     "start_time": "2024-05-05T22:29:18.745914",
     "status": "completed"
    },
    "tags": []
   },
   "source": [
    "# CFG"
   ]
  },
  {
   "cell_type": "code",
   "execution_count": 2,
   "id": "a88a8f3f",
   "metadata": {
    "execution": {
     "iopub.execute_input": "2024-05-05T22:29:18.772117Z",
     "iopub.status.busy": "2024-05-05T22:29:18.771795Z",
     "iopub.status.idle": "2024-05-05T22:29:18.780512Z",
     "shell.execute_reply": "2024-05-05T22:29:18.779698Z"
    },
    "papermill": {
     "duration": 0.020066,
     "end_time": "2024-05-05T22:29:18.782551",
     "exception": false,
     "start_time": "2024-05-05T22:29:18.762485",
     "status": "completed"
    },
    "tags": []
   },
   "outputs": [],
   "source": [
    "# ====================================================\n",
    "# CFG\n",
    "# ====================================================\n",
    "class CFG:\n",
    "    wandb=True\n",
    "    competition='FB3'\n",
    "    _wandb_kernel='nakama'\n",
    "    debug=False\n",
    "    apex=True\n",
    "    print_freq=20\n",
    "    num_workers=4\n",
    "    model=\"microsoft/deberta-v3-base\"\n",
    "    gradient_checkpointing=True\n",
    "    scheduler='cosine' # ['linear', 'cosine']\n",
    "    batch_scheduler=True\n",
    "    num_cycles=0.5\n",
    "    num_warmup_steps=0\n",
    "    epochs=2\n",
    "    encoder_lr=2e-5\n",
    "    decoder_lr=2e-5\n",
    "    min_lr=1e-6\n",
    "    eps=1e-6\n",
    "    betas=(0.9, 0.999)\n",
    "    batch_size=8\n",
    "    max_len=512\n",
    "    weight_decay=0.01\n",
    "    gradient_accumulation_steps=1\n",
    "    max_grad_norm=1000\n",
    "    target_cols=['cohesion', 'syntax', 'vocabulary', 'phraseology', 'grammar', 'conventions']\n",
    "    seed=42\n",
    "    n_fold=4\n",
    "    trn_fold=[0, 1, 2, 3]\n",
    "    train=True\n",
    "    \n",
    "if CFG.debug:\n",
    "    CFG.epochs = 2\n",
    "    CFG.trn_fold = [0]"
   ]
  },
  {
   "cell_type": "code",
   "execution_count": 3,
   "id": "0f4e002e",
   "metadata": {
    "execution": {
     "iopub.execute_input": "2024-05-05T22:29:18.800547Z",
     "iopub.status.busy": "2024-05-05T22:29:18.800228Z",
     "iopub.status.idle": "2024-05-05T22:29:27.096300Z",
     "shell.execute_reply": "2024-05-05T22:29:27.095239Z"
    },
    "papermill": {
     "duration": 8.307837,
     "end_time": "2024-05-05T22:29:27.098604",
     "exception": false,
     "start_time": "2024-05-05T22:29:18.790767",
     "status": "completed"
    },
    "tags": []
   },
   "outputs": [
    {
     "name": "stderr",
     "output_type": "stream",
     "text": [
      "\u001b[34m\u001b[1mwandb\u001b[0m: W&B API key is configured. Use \u001b[1m`wandb login --relogin`\u001b[0m to force relogin\n",
      "\u001b[34m\u001b[1mwandb\u001b[0m: \u001b[33mWARNING\u001b[0m If you're specifying your api key in code, ensure this code is not shared publicly.\n",
      "\u001b[34m\u001b[1mwandb\u001b[0m: \u001b[33mWARNING\u001b[0m Consider setting the WANDB_API_KEY environment variable, or running `wandb login` from the command line.\n",
      "\u001b[34m\u001b[1mwandb\u001b[0m: Appending key for api.wandb.ai to your netrc file: /root/.netrc\n",
      "\u001b[34m\u001b[1mwandb\u001b[0m: Currently logged in as: \u001b[33mdoughnut\u001b[0m (\u001b[33mteam-donut\u001b[0m). Use \u001b[1m`wandb login --relogin`\u001b[0m to force relogin\n"
     ]
    },
    {
     "data": {
      "text/html": [
       "wandb version 0.16.6 is available!  To upgrade, please run:\n",
       " $ pip install wandb --upgrade"
      ],
      "text/plain": [
       "<IPython.core.display.HTML object>"
      ]
     },
     "metadata": {},
     "output_type": "display_data"
    },
    {
     "data": {
      "text/html": [
       "Tracking run with wandb version 0.12.21"
      ],
      "text/plain": [
       "<IPython.core.display.HTML object>"
      ]
     },
     "metadata": {},
     "output_type": "display_data"
    },
    {
     "data": {
      "text/html": [
       "Run data is saved locally in <code>/kaggle/working/wandb/run-20240505_222920-p4irit99</code>"
      ],
      "text/plain": [
       "<IPython.core.display.HTML object>"
      ]
     },
     "metadata": {},
     "output_type": "display_data"
    },
    {
     "data": {
      "text/html": [
       "Syncing run <strong><a href=\"https://wandb.ai/team-donut/FB3-Public/runs/p4irit99\" target=\"_blank\">microsoft/deberta-v3-base</a></strong> to <a href=\"https://wandb.ai/team-donut/FB3-Public\" target=\"_blank\">Weights & Biases</a> (<a href=\"https://wandb.me/run\" target=\"_blank\">docs</a>)<br/>"
      ],
      "text/plain": [
       "<IPython.core.display.HTML object>"
      ]
     },
     "metadata": {},
     "output_type": "display_data"
    }
   ],
   "source": [
    "# ====================================================\n",
    "# wandb\n",
    "# ====================================================\n",
    "if CFG.wandb:\n",
    "    \n",
    "    import wandb\n",
    "\n",
    "    try:\n",
    "        from kaggle_secrets import UserSecretsClient\n",
    "        user_secrets = UserSecretsClient()\n",
    "        secret_value_0 = user_secrets.get_secret(\"wandb_api\")\n",
    "        wandb.login(key=secret_value_0)\n",
    "        anony = None\n",
    "    except:\n",
    "        anony = \"must\"\n",
    "        print('If you want to use your W&B account, go to Add-ons -> Secrets and provide your W&B access token. Use the Label name as wandb_api. \\nGet your W&B access token from here: https://wandb.ai/authorize')\n",
    "\n",
    "\n",
    "    def class2dict(f):\n",
    "        return dict((name, getattr(f, name)) for name in dir(f) if not name.startswith('__'))\n",
    "\n",
    "    run = wandb.init(project='FB3-Public', \n",
    "                     name=CFG.model,\n",
    "                     config=class2dict(CFG),\n",
    "                     group=CFG.model,\n",
    "                     job_type=\"train\",\n",
    "                     anonymous=anony)"
   ]
  },
  {
   "cell_type": "markdown",
   "id": "54f7d9a8",
   "metadata": {
    "papermill": {
     "duration": 0.00894,
     "end_time": "2024-05-05T22:29:27.117426",
     "exception": false,
     "start_time": "2024-05-05T22:29:27.108486",
     "status": "completed"
    },
    "tags": []
   },
   "source": [
    "# Library"
   ]
  },
  {
   "cell_type": "code",
   "execution_count": 4,
   "id": "ed932208",
   "metadata": {
    "execution": {
     "iopub.execute_input": "2024-05-05T22:29:27.139483Z",
     "iopub.status.busy": "2024-05-05T22:29:27.138512Z",
     "iopub.status.idle": "2024-05-05T22:30:15.459414Z",
     "shell.execute_reply": "2024-05-05T22:30:15.458353Z"
    },
    "papermill": {
     "duration": 48.334213,
     "end_time": "2024-05-05T22:30:15.461661",
     "exception": false,
     "start_time": "2024-05-05T22:29:27.127448",
     "status": "completed"
    },
    "tags": []
   },
   "outputs": [
    {
     "name": "stdout",
     "output_type": "stream",
     "text": [
      "Collecting iterative-stratification==0.1.7\n",
      "  Downloading iterative_stratification-0.1.7-py3-none-any.whl (8.5 kB)\n",
      "Requirement already satisfied: numpy in /opt/conda/lib/python3.7/site-packages (from iterative-stratification==0.1.7) (1.21.6)\n",
      "Requirement already satisfied: scikit-learn in /opt/conda/lib/python3.7/site-packages (from iterative-stratification==0.1.7) (1.0.2)\n",
      "Requirement already satisfied: scipy in /opt/conda/lib/python3.7/site-packages (from iterative-stratification==0.1.7) (1.7.3)\n",
      "Requirement already satisfied: joblib>=0.11 in /opt/conda/lib/python3.7/site-packages (from scikit-learn->iterative-stratification==0.1.7) (1.0.1)\n",
      "Requirement already satisfied: threadpoolctl>=2.0.0 in /opt/conda/lib/python3.7/site-packages (from scikit-learn->iterative-stratification==0.1.7) (3.1.0)\n",
      "Installing collected packages: iterative-stratification\n",
      "Successfully installed iterative-stratification-0.1.7\n"
     ]
    },
    {
     "name": "stderr",
     "output_type": "stream",
     "text": [
      "WARNING: Running pip as the 'root' user can result in broken permissions and conflicting behaviour with the system package manager. It is recommended to use a virtual environment instead: https://pip.pypa.io/warnings/venv\n"
     ]
    },
    {
     "name": "stdout",
     "output_type": "stream",
     "text": [
      "Found existing installation: transformers 4.20.1\n",
      "Uninstalling transformers-4.20.1:\n",
      "  Successfully uninstalled transformers-4.20.1\n"
     ]
    },
    {
     "name": "stderr",
     "output_type": "stream",
     "text": [
      "WARNING: Running pip as the 'root' user can result in broken permissions and conflicting behaviour with the system package manager. It is recommended to use a virtual environment instead: https://pip.pypa.io/warnings/venv\n"
     ]
    },
    {
     "name": "stdout",
     "output_type": "stream",
     "text": [
      "Found existing installation: tokenizers 0.12.1\n",
      "Uninstalling tokenizers-0.12.1:\n",
      "  Successfully uninstalled tokenizers-0.12.1\n"
     ]
    },
    {
     "name": "stderr",
     "output_type": "stream",
     "text": [
      "WARNING: Running pip as the 'root' user can result in broken permissions and conflicting behaviour with the system package manager. It is recommended to use a virtual environment instead: https://pip.pypa.io/warnings/venv\n"
     ]
    },
    {
     "name": "stdout",
     "output_type": "stream",
     "text": [
      "Looking in links: ../input/fb3-pip-wheels\n",
      "Processing /kaggle/input/fb3-pip-wheels/transformers-4.21.2-py3-none-any.whl\n",
      "Requirement already satisfied: tqdm>=4.27 in /opt/conda/lib/python3.7/site-packages (from transformers) (4.64.0)\n",
      "Processing /kaggle/input/fb3-pip-wheels/tokenizers-0.12.1-cp37-cp37m-manylinux_2_12_x86_64.manylinux2010_x86_64.whl\n",
      "Requirement already satisfied: pyyaml>=5.1 in /opt/conda/lib/python3.7/site-packages (from transformers) (6.0)\n",
      "Requirement already satisfied: packaging>=20.0 in /opt/conda/lib/python3.7/site-packages (from transformers) (21.3)\n",
      "Requirement already satisfied: regex!=2019.12.17 in /opt/conda/lib/python3.7/site-packages (from transformers) (2021.11.10)\n",
      "Requirement already satisfied: numpy>=1.17 in /opt/conda/lib/python3.7/site-packages (from transformers) (1.21.6)\n",
      "Requirement already satisfied: huggingface-hub<1.0,>=0.1.0 in /opt/conda/lib/python3.7/site-packages (from transformers) (0.8.1)\n",
      "Requirement already satisfied: importlib-metadata in /opt/conda/lib/python3.7/site-packages (from transformers) (4.12.0)\n",
      "Requirement already satisfied: filelock in /opt/conda/lib/python3.7/site-packages (from transformers) (3.7.1)\n",
      "Requirement already satisfied: requests in /opt/conda/lib/python3.7/site-packages (from transformers) (2.28.1)\n",
      "Requirement already satisfied: typing-extensions>=3.7.4.3 in /opt/conda/lib/python3.7/site-packages (from huggingface-hub<1.0,>=0.1.0->transformers) (4.3.0)\n",
      "Requirement already satisfied: pyparsing!=3.0.5,>=2.0.2 in /opt/conda/lib/python3.7/site-packages (from packaging>=20.0->transformers) (3.0.9)\n",
      "Requirement already satisfied: zipp>=0.5 in /opt/conda/lib/python3.7/site-packages (from importlib-metadata->transformers) (3.8.0)\n",
      "Requirement already satisfied: certifi>=2017.4.17 in /opt/conda/lib/python3.7/site-packages (from requests->transformers) (2022.6.15)\n",
      "Requirement already satisfied: charset-normalizer<3,>=2 in /opt/conda/lib/python3.7/site-packages (from requests->transformers) (2.1.0)\n",
      "Requirement already satisfied: idna<4,>=2.5 in /opt/conda/lib/python3.7/site-packages (from requests->transformers) (3.3)\n",
      "Requirement already satisfied: urllib3<1.27,>=1.21.1 in /opt/conda/lib/python3.7/site-packages (from requests->transformers) (1.26.12)\n",
      "Installing collected packages: tokenizers, transformers\n"
     ]
    },
    {
     "name": "stderr",
     "output_type": "stream",
     "text": [
      "ERROR: pip's dependency resolver does not currently take into account all the packages that are installed. This behaviour is the source of the following dependency conflicts.\n",
      "allennlp 2.10.0 requires protobuf==3.20.0, but you have protobuf 3.19.4 which is incompatible.\n",
      "allennlp 2.10.0 requires transformers<4.21,>=4.1, but you have transformers 4.21.2 which is incompatible.\n",
      "WARNING: Running pip as the 'root' user can result in broken permissions and conflicting behaviour with the system package manager. It is recommended to use a virtual environment instead: https://pip.pypa.io/warnings/venv\n"
     ]
    },
    {
     "name": "stdout",
     "output_type": "stream",
     "text": [
      "Successfully installed tokenizers-0.12.1 transformers-4.21.2\n",
      "Looking in links: ../input/fb3-pip-wheels\n",
      "Requirement already satisfied: tokenizers in /opt/conda/lib/python3.7/site-packages (0.12.1)\n"
     ]
    },
    {
     "name": "stderr",
     "output_type": "stream",
     "text": [
      "WARNING: Running pip as the 'root' user can result in broken permissions and conflicting behaviour with the system package manager. It is recommended to use a virtual environment instead: https://pip.pypa.io/warnings/venv\n"
     ]
    },
    {
     "name": "stdout",
     "output_type": "stream",
     "text": [
      "tokenizers.__version__: 0.12.1\n",
      "transformers.__version__: 4.21.2\n",
      "env: TOKENIZERS_PARALLELISM=true\n"
     ]
    }
   ],
   "source": [
    "# ====================================================\n",
    "# Library\n",
    "# ====================================================\n",
    "import os\n",
    "import gc\n",
    "import re\n",
    "import ast\n",
    "import sys\n",
    "import copy\n",
    "import json\n",
    "import time\n",
    "import math\n",
    "import string\n",
    "import pickle\n",
    "import random\n",
    "import joblib\n",
    "import itertools\n",
    "import warnings\n",
    "warnings.filterwarnings(\"ignore\")\n",
    "\n",
    "import scipy as sp\n",
    "import numpy as np\n",
    "import pandas as pd\n",
    "pd.set_option('display.max_rows', 500)\n",
    "pd.set_option('display.max_columns', 500)\n",
    "pd.set_option('display.width', 1000)\n",
    "from tqdm.auto import tqdm\n",
    "from sklearn.metrics import mean_squared_error\n",
    "from sklearn.model_selection import StratifiedKFold, GroupKFold, KFold\n",
    "\n",
    "os.system('pip install iterative-stratification==0.1.7')\n",
    "from iterstrat.ml_stratifiers import MultilabelStratifiedKFold\n",
    "\n",
    "import torch\n",
    "import torch.nn as nn\n",
    "from torch.nn import Parameter\n",
    "import torch.nn.functional as F\n",
    "from torch.optim import Adam, SGD, AdamW\n",
    "from torch.utils.data import DataLoader, Dataset\n",
    "\n",
    "os.system('pip uninstall -y transformers')\n",
    "os.system('pip uninstall -y tokenizers')\n",
    "os.system('python -m pip install --no-index --find-links=../input/fb3-pip-wheels transformers')\n",
    "os.system('python -m pip install --no-index --find-links=../input/fb3-pip-wheels tokenizers')\n",
    "import tokenizers\n",
    "import transformers\n",
    "print(f\"tokenizers.__version__: {tokenizers.__version__}\")\n",
    "print(f\"transformers.__version__: {transformers.__version__}\")\n",
    "from transformers import AutoTokenizer, AutoModel, AutoConfig\n",
    "from transformers import get_linear_schedule_with_warmup, get_cosine_schedule_with_warmup\n",
    "%env TOKENIZERS_PARALLELISM=true\n",
    "\n",
    "device = torch.device('cuda' if torch.cuda.is_available() else 'cpu')"
   ]
  },
  {
   "cell_type": "markdown",
   "id": "b4ba831c",
   "metadata": {
    "papermill": {
     "duration": 0.010341,
     "end_time": "2024-05-05T22:30:15.483073",
     "exception": false,
     "start_time": "2024-05-05T22:30:15.472732",
     "status": "completed"
    },
    "tags": []
   },
   "source": [
    "# Utils"
   ]
  },
  {
   "cell_type": "code",
   "execution_count": 5,
   "id": "ade34d3a",
   "metadata": {
    "execution": {
     "iopub.execute_input": "2024-05-05T22:30:15.505868Z",
     "iopub.status.busy": "2024-05-05T22:30:15.505281Z",
     "iopub.status.idle": "2024-05-05T22:30:15.529315Z",
     "shell.execute_reply": "2024-05-05T22:30:15.527973Z"
    },
    "papermill": {
     "duration": 0.038997,
     "end_time": "2024-05-05T22:30:15.532530",
     "exception": false,
     "start_time": "2024-05-05T22:30:15.493533",
     "status": "completed"
    },
    "tags": []
   },
   "outputs": [],
   "source": [
    "# ====================================================\n",
    "# Utils\n",
    "# ====================================================\n",
    "def MCRMSE(y_trues, y_preds):\n",
    "    scores = []\n",
    "    idxes = y_trues.shape[1]\n",
    "    for i in range(idxes):\n",
    "        y_true = y_trues[:,i]\n",
    "        y_pred = y_preds[:,i]\n",
    "        score = mean_squared_error(y_true, y_pred, squared=False) # RMSE\n",
    "        scores.append(score)\n",
    "    mcrmse_score = np.mean(scores)\n",
    "    return mcrmse_score, scores\n",
    "\n",
    "\n",
    "def get_score(y_trues, y_preds):\n",
    "    mcrmse_score, scores = MCRMSE(y_trues, y_preds)\n",
    "    return mcrmse_score, scores\n",
    "\n",
    "\n",
    "def get_logger(filename=OUTPUT_DIR+'train'):\n",
    "    from logging import getLogger, INFO, StreamHandler, FileHandler, Formatter\n",
    "    logger = getLogger(__name__)\n",
    "    logger.setLevel(INFO)\n",
    "    handler1 = StreamHandler()\n",
    "    handler1.setFormatter(Formatter(\"%(message)s\"))\n",
    "    handler2 = FileHandler(filename=f\"{filename}.log\")\n",
    "    handler2.setFormatter(Formatter(\"%(message)s\"))\n",
    "    logger.addHandler(handler1)\n",
    "    logger.addHandler(handler2)\n",
    "    return logger\n",
    "\n",
    "LOGGER = get_logger()\n",
    "\n",
    "\n",
    "def seed_everything(seed=42):\n",
    "    random.seed(seed)\n",
    "    os.environ['PYTHONHASHSEED'] = str(seed)\n",
    "    np.random.seed(seed)\n",
    "    torch.manual_seed(seed)\n",
    "    torch.cuda.manual_seed(seed)\n",
    "    torch.backends.cudnn.deterministic = True\n",
    "    \n",
    "seed_everything(seed=42)"
   ]
  },
  {
   "cell_type": "markdown",
   "id": "0aa6b621",
   "metadata": {
    "papermill": {
     "duration": 0.010369,
     "end_time": "2024-05-05T22:30:15.553543",
     "exception": false,
     "start_time": "2024-05-05T22:30:15.543174",
     "status": "completed"
    },
    "tags": []
   },
   "source": [
    "# Data Loading"
   ]
  },
  {
   "cell_type": "code",
   "execution_count": 6,
   "id": "779c56f8",
   "metadata": {
    "execution": {
     "iopub.execute_input": "2024-05-05T22:30:15.576315Z",
     "iopub.status.busy": "2024-05-05T22:30:15.575713Z",
     "iopub.status.idle": "2024-05-05T22:30:15.836365Z",
     "shell.execute_reply": "2024-05-05T22:30:15.835010Z"
    },
    "papermill": {
     "duration": 0.2749,
     "end_time": "2024-05-05T22:30:15.838911",
     "exception": false,
     "start_time": "2024-05-05T22:30:15.564011",
     "status": "completed"
    },
    "tags": []
   },
   "outputs": [
    {
     "name": "stdout",
     "output_type": "stream",
     "text": [
      "train.shape: (3128, 8)\n"
     ]
    },
    {
     "data": {
      "text/html": [
       "<div>\n",
       "<style scoped>\n",
       "    .dataframe tbody tr th:only-of-type {\n",
       "        vertical-align: middle;\n",
       "    }\n",
       "\n",
       "    .dataframe tbody tr th {\n",
       "        vertical-align: top;\n",
       "    }\n",
       "\n",
       "    .dataframe thead th {\n",
       "        text-align: right;\n",
       "    }\n",
       "</style>\n",
       "<table border=\"1\" class=\"dataframe\">\n",
       "  <thead>\n",
       "    <tr style=\"text-align: right;\">\n",
       "      <th></th>\n",
       "      <th>text_id</th>\n",
       "      <th>full_text</th>\n",
       "      <th>cohesion</th>\n",
       "      <th>syntax</th>\n",
       "      <th>vocabulary</th>\n",
       "      <th>phraseology</th>\n",
       "      <th>grammar</th>\n",
       "      <th>conventions</th>\n",
       "    </tr>\n",
       "  </thead>\n",
       "  <tbody>\n",
       "    <tr>\n",
       "      <th>0</th>\n",
       "      <td>1247CB034EF7</td>\n",
       "      <td>Wouldnt you want to have time and do your home...</td>\n",
       "      <td>4.0</td>\n",
       "      <td>3.5</td>\n",
       "      <td>3.0</td>\n",
       "      <td>3.5</td>\n",
       "      <td>4.0</td>\n",
       "      <td>3.5</td>\n",
       "    </tr>\n",
       "    <tr>\n",
       "      <th>1</th>\n",
       "      <td>68685615FE0C</td>\n",
       "      <td>There is a debate about the opportunity offere...</td>\n",
       "      <td>3.5</td>\n",
       "      <td>4.0</td>\n",
       "      <td>3.5</td>\n",
       "      <td>3.5</td>\n",
       "      <td>2.5</td>\n",
       "      <td>3.0</td>\n",
       "    </tr>\n",
       "    <tr>\n",
       "      <th>2</th>\n",
       "      <td>E597A35FA323</td>\n",
       "      <td>Negative, We have to take Information about th...</td>\n",
       "      <td>2.0</td>\n",
       "      <td>2.5</td>\n",
       "      <td>2.5</td>\n",
       "      <td>2.5</td>\n",
       "      <td>2.5</td>\n",
       "      <td>2.5</td>\n",
       "    </tr>\n",
       "    <tr>\n",
       "      <th>3</th>\n",
       "      <td>AD9CEE5A6FFF</td>\n",
       "      <td>I think it better to talk to more people than ...</td>\n",
       "      <td>3.0</td>\n",
       "      <td>3.0</td>\n",
       "      <td>3.0</td>\n",
       "      <td>3.0</td>\n",
       "      <td>3.0</td>\n",
       "      <td>2.5</td>\n",
       "    </tr>\n",
       "    <tr>\n",
       "      <th>4</th>\n",
       "      <td>F4C52358CE03</td>\n",
       "      <td>In this reasons from Churchill's statement. I ...</td>\n",
       "      <td>2.5</td>\n",
       "      <td>2.5</td>\n",
       "      <td>2.5</td>\n",
       "      <td>2.0</td>\n",
       "      <td>2.5</td>\n",
       "      <td>2.5</td>\n",
       "    </tr>\n",
       "  </tbody>\n",
       "</table>\n",
       "</div>"
      ],
      "text/plain": [
       "        text_id                                          full_text  cohesion  syntax  vocabulary  phraseology  grammar  conventions\n",
       "0  1247CB034EF7  Wouldnt you want to have time and do your home...       4.0     3.5         3.0          3.5      4.0          3.5\n",
       "1  68685615FE0C  There is a debate about the opportunity offere...       3.5     4.0         3.5          3.5      2.5          3.0\n",
       "2  E597A35FA323  Negative, We have to take Information about th...       2.0     2.5         2.5          2.5      2.5          2.5\n",
       "3  AD9CEE5A6FFF  I think it better to talk to more people than ...       3.0     3.0         3.0          3.0      3.0          2.5\n",
       "4  F4C52358CE03  In this reasons from Churchill's statement. I ...       2.5     2.5         2.5          2.0      2.5          2.5"
      ]
     },
     "metadata": {},
     "output_type": "display_data"
    },
    {
     "name": "stdout",
     "output_type": "stream",
     "text": [
      "test.shape: (783, 8)\n"
     ]
    },
    {
     "data": {
      "text/html": [
       "<div>\n",
       "<style scoped>\n",
       "    .dataframe tbody tr th:only-of-type {\n",
       "        vertical-align: middle;\n",
       "    }\n",
       "\n",
       "    .dataframe tbody tr th {\n",
       "        vertical-align: top;\n",
       "    }\n",
       "\n",
       "    .dataframe thead th {\n",
       "        text-align: right;\n",
       "    }\n",
       "</style>\n",
       "<table border=\"1\" class=\"dataframe\">\n",
       "  <thead>\n",
       "    <tr style=\"text-align: right;\">\n",
       "      <th></th>\n",
       "      <th>text_id</th>\n",
       "      <th>full_text</th>\n",
       "      <th>cohesion</th>\n",
       "      <th>syntax</th>\n",
       "      <th>vocabulary</th>\n",
       "      <th>phraseology</th>\n",
       "      <th>grammar</th>\n",
       "      <th>conventions</th>\n",
       "    </tr>\n",
       "  </thead>\n",
       "  <tbody>\n",
       "    <tr>\n",
       "      <th>0</th>\n",
       "      <td>772D27D400BB</td>\n",
       "      <td>It god to have a possitive attitude when you d...</td>\n",
       "      <td>3.0</td>\n",
       "      <td>2.5</td>\n",
       "      <td>2.5</td>\n",
       "      <td>2.0</td>\n",
       "      <td>2.0</td>\n",
       "      <td>2.0</td>\n",
       "    </tr>\n",
       "    <tr>\n",
       "      <th>1</th>\n",
       "      <td>9E8F3C6405CA</td>\n",
       "      <td>Why do people ask more then one person for adv...</td>\n",
       "      <td>3.0</td>\n",
       "      <td>2.0</td>\n",
       "      <td>3.0</td>\n",
       "      <td>3.5</td>\n",
       "      <td>3.0</td>\n",
       "      <td>3.0</td>\n",
       "    </tr>\n",
       "    <tr>\n",
       "      <th>2</th>\n",
       "      <td>948771F795EB</td>\n",
       "      <td>We accomplish more when we are active, and are...</td>\n",
       "      <td>4.0</td>\n",
       "      <td>4.0</td>\n",
       "      <td>3.0</td>\n",
       "      <td>4.0</td>\n",
       "      <td>4.0</td>\n",
       "      <td>4.0</td>\n",
       "    </tr>\n",
       "    <tr>\n",
       "      <th>3</th>\n",
       "      <td>FE14D7378CFB</td>\n",
       "      <td>Do you agree or disagree about imagination bei...</td>\n",
       "      <td>3.0</td>\n",
       "      <td>3.0</td>\n",
       "      <td>3.5</td>\n",
       "      <td>3.0</td>\n",
       "      <td>3.5</td>\n",
       "      <td>3.5</td>\n",
       "    </tr>\n",
       "    <tr>\n",
       "      <th>4</th>\n",
       "      <td>7AAE019F70D6</td>\n",
       "      <td>I disagree with the principal saying that all ...</td>\n",
       "      <td>3.5</td>\n",
       "      <td>3.5</td>\n",
       "      <td>3.5</td>\n",
       "      <td>3.5</td>\n",
       "      <td>3.0</td>\n",
       "      <td>3.5</td>\n",
       "    </tr>\n",
       "  </tbody>\n",
       "</table>\n",
       "</div>"
      ],
      "text/plain": [
       "        text_id                                          full_text  cohesion  syntax  vocabulary  phraseology  grammar  conventions\n",
       "0  772D27D400BB  It god to have a possitive attitude when you d...       3.0     2.5         2.5          2.0      2.0          2.0\n",
       "1  9E8F3C6405CA  Why do people ask more then one person for adv...       3.0     2.0         3.0          3.5      3.0          3.0\n",
       "2  948771F795EB  We accomplish more when we are active, and are...       4.0     4.0         3.0          4.0      4.0          4.0\n",
       "3  FE14D7378CFB  Do you agree or disagree about imagination bei...       3.0     3.0         3.5          3.0      3.5          3.5\n",
       "4  7AAE019F70D6  I disagree with the principal saying that all ...       3.5     3.5         3.5          3.5      3.0          3.5"
      ]
     },
     "metadata": {},
     "output_type": "display_data"
    }
   ],
   "source": [
    "# ====================================================\n",
    "# Data Loading\n",
    "# ====================================================\n",
    "from sklearn.model_selection import train_test_split\n",
    "data = pd.read_csv('../input/feedback-prize-english-language-learning/train.csv')\n",
    "train, test = train_test_split(data, test_size=0.2, random_state=42)\n",
    "train.reset_index(drop=True, inplace=True)\n",
    "test.reset_index(drop=True, inplace=True)\n",
    "# test = pd.read_csv('../input/feedback-prize-english-language-learning/test.csv')\n",
    "# submission = pd.read_csv('../input/feedback-prize-english-language-learning/sample_submission.csv')\n",
    "\n",
    "print(f\"train.shape: {train.shape}\")\n",
    "display(train.head())\n",
    "print(f\"test.shape: {test.shape}\")\n",
    "display(test.head())\n",
    "# print(f\"submission.shape: {submission.shape}\")\n",
    "# display(submission.head())"
   ]
  },
  {
   "cell_type": "markdown",
   "id": "a57a08f9",
   "metadata": {
    "papermill": {
     "duration": 0.010897,
     "end_time": "2024-05-05T22:30:15.862100",
     "exception": false,
     "start_time": "2024-05-05T22:30:15.851203",
     "status": "completed"
    },
    "tags": []
   },
   "source": [
    "# CV split"
   ]
  },
  {
   "cell_type": "code",
   "execution_count": 7,
   "id": "85e0b29a",
   "metadata": {
    "execution": {
     "iopub.execute_input": "2024-05-05T22:30:15.885972Z",
     "iopub.status.busy": "2024-05-05T22:30:15.885452Z",
     "iopub.status.idle": "2024-05-05T22:30:16.041701Z",
     "shell.execute_reply": "2024-05-05T22:30:16.040835Z"
    },
    "papermill": {
     "duration": 0.170597,
     "end_time": "2024-05-05T22:30:16.043803",
     "exception": false,
     "start_time": "2024-05-05T22:30:15.873206",
     "status": "completed"
    },
    "tags": []
   },
   "outputs": [
    {
     "data": {
      "text/plain": [
       "fold\n",
       "0    782\n",
       "1    782\n",
       "2    782\n",
       "3    782\n",
       "dtype: int64"
      ]
     },
     "metadata": {},
     "output_type": "display_data"
    }
   ],
   "source": [
    "# ====================================================\n",
    "# CV split\n",
    "# ====================================================\n",
    "Fold = MultilabelStratifiedKFold(n_splits=CFG.n_fold, shuffle=True, random_state=CFG.seed)\n",
    "for n, (train_index, val_index) in enumerate(Fold.split(train, train[CFG.target_cols])):\n",
    "    train.loc[val_index, 'fold'] = int(n)\n",
    "train['fold'] = train['fold'].astype(int)\n",
    "display(train.groupby('fold').size())"
   ]
  },
  {
   "cell_type": "code",
   "execution_count": 8,
   "id": "90f77d2c",
   "metadata": {
    "execution": {
     "iopub.execute_input": "2024-05-05T22:30:16.067528Z",
     "iopub.status.busy": "2024-05-05T22:30:16.067236Z",
     "iopub.status.idle": "2024-05-05T22:30:16.073248Z",
     "shell.execute_reply": "2024-05-05T22:30:16.072501Z"
    },
    "papermill": {
     "duration": 0.020058,
     "end_time": "2024-05-05T22:30:16.075167",
     "exception": false,
     "start_time": "2024-05-05T22:30:16.055109",
     "status": "completed"
    },
    "tags": []
   },
   "outputs": [],
   "source": [
    "if CFG.debug:\n",
    "    display(train.groupby('fold').size())\n",
    "    train = train.sample(n=1000, random_state=0).reset_index(drop=True)\n",
    "    display(train.groupby('fold').size())"
   ]
  },
  {
   "cell_type": "markdown",
   "id": "156111be",
   "metadata": {
    "papermill": {
     "duration": 0.011239,
     "end_time": "2024-05-05T22:30:16.098008",
     "exception": false,
     "start_time": "2024-05-05T22:30:16.086769",
     "status": "completed"
    },
    "tags": []
   },
   "source": [
    "# tokenizer"
   ]
  },
  {
   "cell_type": "code",
   "execution_count": 9,
   "id": "0a04e5e0",
   "metadata": {
    "execution": {
     "iopub.execute_input": "2024-05-05T22:30:16.122254Z",
     "iopub.status.busy": "2024-05-05T22:30:16.121953Z",
     "iopub.status.idle": "2024-05-05T22:30:18.968923Z",
     "shell.execute_reply": "2024-05-05T22:30:18.967948Z"
    },
    "papermill": {
     "duration": 2.862411,
     "end_time": "2024-05-05T22:30:18.971788",
     "exception": false,
     "start_time": "2024-05-05T22:30:16.109377",
     "status": "completed"
    },
    "tags": []
   },
   "outputs": [
    {
     "data": {
      "application/vnd.jupyter.widget-view+json": {
       "model_id": "e10bd38128fd4d27929466e0669618aa",
       "version_major": 2,
       "version_minor": 0
      },
      "text/plain": [
       "Downloading tokenizer_config.json:   0%|          | 0.00/52.0 [00:00<?, ?B/s]"
      ]
     },
     "metadata": {},
     "output_type": "display_data"
    },
    {
     "data": {
      "application/vnd.jupyter.widget-view+json": {
       "model_id": "762a97511dff476fababdc0d22097604",
       "version_major": 2,
       "version_minor": 0
      },
      "text/plain": [
       "Downloading config.json:   0%|          | 0.00/579 [00:00<?, ?B/s]"
      ]
     },
     "metadata": {},
     "output_type": "display_data"
    },
    {
     "data": {
      "application/vnd.jupyter.widget-view+json": {
       "model_id": "c9aaa33d02db4bc29ea1a0b99e230b20",
       "version_major": 2,
       "version_minor": 0
      },
      "text/plain": [
       "Downloading spm.model:   0%|          | 0.00/2.35M [00:00<?, ?B/s]"
      ]
     },
     "metadata": {},
     "output_type": "display_data"
    },
    {
     "name": "stderr",
     "output_type": "stream",
     "text": [
      "Special tokens have been added in the vocabulary, make sure the associated word embeddings are fine-tuned or trained.\n",
      "Special tokens have been added in the vocabulary, make sure the associated word embeddings are fine-tuned or trained.\n"
     ]
    }
   ],
   "source": [
    "# ====================================================\n",
    "# tokenizer\n",
    "# ====================================================\n",
    "tokenizer = AutoTokenizer.from_pretrained(CFG.model)\n",
    "tokenizer.save_pretrained(OUTPUT_DIR+'tokenizer/')\n",
    "CFG.tokenizer = tokenizer"
   ]
  },
  {
   "cell_type": "markdown",
   "id": "a4310d00",
   "metadata": {
    "papermill": {
     "duration": 0.014562,
     "end_time": "2024-05-05T22:30:19.000489",
     "exception": false,
     "start_time": "2024-05-05T22:30:18.985927",
     "status": "completed"
    },
    "tags": []
   },
   "source": [
    "# Dataset"
   ]
  },
  {
   "cell_type": "code",
   "execution_count": 10,
   "id": "d81f1b50",
   "metadata": {
    "execution": {
     "iopub.execute_input": "2024-05-05T22:30:19.030080Z",
     "iopub.status.busy": "2024-05-05T22:30:19.029684Z",
     "iopub.status.idle": "2024-05-05T22:30:24.348583Z",
     "shell.execute_reply": "2024-05-05T22:30:24.347636Z"
    },
    "papermill": {
     "duration": 5.336326,
     "end_time": "2024-05-05T22:30:24.350855",
     "exception": false,
     "start_time": "2024-05-05T22:30:19.014529",
     "status": "completed"
    },
    "tags": []
   },
   "outputs": [
    {
     "data": {
      "application/vnd.jupyter.widget-view+json": {
       "model_id": "efe7c20732124101ab26fd0526f4c348",
       "version_major": 2,
       "version_minor": 0
      },
      "text/plain": [
       "  0%|          | 0/3128 [00:00<?, ?it/s]"
      ]
     },
     "metadata": {},
     "output_type": "display_data"
    },
    {
     "name": "stderr",
     "output_type": "stream",
     "text": [
      "max_len: 1429\n"
     ]
    }
   ],
   "source": [
    "# ====================================================\n",
    "# Define max_len\n",
    "# ====================================================\n",
    "lengths = []\n",
    "tk0 = tqdm(train['full_text'].fillna(\"\").values, total=len(train))\n",
    "for text in tk0:\n",
    "    length = len(tokenizer(text, add_special_tokens=False)['input_ids'])\n",
    "    lengths.append(length)\n",
    "CFG.max_len = max(lengths) + 3 # cls & sep & sep\n",
    "LOGGER.info(f\"max_len: {CFG.max_len}\")"
   ]
  },
  {
   "cell_type": "code",
   "execution_count": 11,
   "id": "f417fd83",
   "metadata": {
    "execution": {
     "iopub.execute_input": "2024-05-05T22:30:24.376908Z",
     "iopub.status.busy": "2024-05-05T22:30:24.376615Z",
     "iopub.status.idle": "2024-05-05T22:30:24.387775Z",
     "shell.execute_reply": "2024-05-05T22:30:24.386824Z"
    },
    "papermill": {
     "duration": 0.026317,
     "end_time": "2024-05-05T22:30:24.389818",
     "exception": false,
     "start_time": "2024-05-05T22:30:24.363501",
     "status": "completed"
    },
    "tags": []
   },
   "outputs": [],
   "source": [
    "# ====================================================\n",
    "# Dataset\n",
    "# ====================================================\n",
    "def prepare_input(cfg, text):\n",
    "    inputs = cfg.tokenizer.encode_plus(\n",
    "        text, \n",
    "        return_tensors=None, \n",
    "        add_special_tokens=True, \n",
    "        max_length=CFG.max_len,\n",
    "        pad_to_max_length=True,\n",
    "        truncation=True\n",
    "    )\n",
    "    for k, v in inputs.items():\n",
    "        inputs[k] = torch.tensor(v, dtype=torch.long)\n",
    "    return inputs\n",
    "\n",
    "\n",
    "class TrainDataset(Dataset):\n",
    "    def __init__(self, cfg, df):\n",
    "        self.cfg = cfg\n",
    "        self.texts = df['full_text'].values\n",
    "        self.labels = df[cfg.target_cols].values\n",
    "\n",
    "    def __len__(self):\n",
    "        return len(self.texts)\n",
    "\n",
    "    def __getitem__(self, item):\n",
    "        inputs = prepare_input(self.cfg, self.texts[item])\n",
    "        label = torch.tensor(self.labels[item], dtype=torch.float)\n",
    "        return inputs, label\n",
    "    \n",
    "\n",
    "def collate(inputs):\n",
    "    mask_len = int(inputs[\"attention_mask\"].sum(axis=1).max())\n",
    "    for k, v in inputs.items():\n",
    "        inputs[k] = inputs[k][:,:mask_len]\n",
    "    return inputs"
   ]
  },
  {
   "cell_type": "markdown",
   "id": "c7c1b3a4",
   "metadata": {
    "papermill": {
     "duration": 0.012867,
     "end_time": "2024-05-05T22:30:24.415898",
     "exception": false,
     "start_time": "2024-05-05T22:30:24.403031",
     "status": "completed"
    },
    "tags": []
   },
   "source": [
    "# Model"
   ]
  },
  {
   "cell_type": "code",
   "execution_count": 12,
   "id": "c05bbefb",
   "metadata": {
    "execution": {
     "iopub.execute_input": "2024-05-05T22:30:24.442214Z",
     "iopub.status.busy": "2024-05-05T22:30:24.441922Z",
     "iopub.status.idle": "2024-05-05T22:30:24.463128Z",
     "shell.execute_reply": "2024-05-05T22:30:24.460081Z"
    },
    "papermill": {
     "duration": 0.037187,
     "end_time": "2024-05-05T22:30:24.465875",
     "exception": false,
     "start_time": "2024-05-05T22:30:24.428688",
     "status": "completed"
    },
    "tags": []
   },
   "outputs": [],
   "source": [
    "# ====================================================\n",
    "# Model\n",
    "# ====================================================\n",
    "class MeanPooling(nn.Module):\n",
    "    def __init__(self):\n",
    "        super(MeanPooling, self).__init__()\n",
    "        \n",
    "    def forward(self, last_hidden_state, attention_mask):\n",
    "        input_mask_expanded = attention_mask.unsqueeze(-1).expand(last_hidden_state.size()).float()\n",
    "        sum_embeddings = torch.sum(last_hidden_state * input_mask_expanded, 1)\n",
    "        sum_mask = input_mask_expanded.sum(1)\n",
    "        sum_mask = torch.clamp(sum_mask, min=1e-9)\n",
    "        mean_embeddings = sum_embeddings / sum_mask\n",
    "        return mean_embeddings\n",
    "    \n",
    "\n",
    "class CustomModel(nn.Module):\n",
    "    def __init__(self, cfg, config_path=None, pretrained=False):\n",
    "        super().__init__()\n",
    "        self.cfg = cfg\n",
    "        if config_path is None:\n",
    "            self.config = AutoConfig.from_pretrained(cfg.model, output_hidden_states=True)\n",
    "            self.config.hidden_dropout = 0.\n",
    "            self.config.hidden_dropout_prob = 0.\n",
    "            self.config.attention_dropout = 0.\n",
    "            self.config.attention_probs_dropout_prob = 0.\n",
    "            LOGGER.info(self.config)\n",
    "        else:\n",
    "            self.config = torch.load(config_path)\n",
    "        if pretrained:\n",
    "            self.model = AutoModel.from_pretrained(cfg.model, config=self.config)\n",
    "        else:\n",
    "            self.model = AutoModel(self.config)\n",
    "        if self.cfg.gradient_checkpointing:\n",
    "            self.model.gradient_checkpointing_enable()\n",
    "        self.pool = MeanPooling()\n",
    "        self.fc = nn.Linear(self.config.hidden_size, 6)\n",
    "        self._init_weights(self.fc)\n",
    "        \n",
    "    def _init_weights(self, module):\n",
    "        if isinstance(module, nn.Linear):\n",
    "            module.weight.data.normal_(mean=0.0, std=self.config.initializer_range)\n",
    "            if module.bias is not None:\n",
    "                module.bias.data.zero_()\n",
    "        elif isinstance(module, nn.Embedding):\n",
    "            module.weight.data.normal_(mean=0.0, std=self.config.initializer_range)\n",
    "            if module.padding_idx is not None:\n",
    "                module.weight.data[module.padding_idx].zero_()\n",
    "        elif isinstance(module, nn.LayerNorm):\n",
    "            module.bias.data.zero_()\n",
    "            module.weight.data.fill_(1.0)\n",
    "        \n",
    "    def feature(self, inputs):\n",
    "        outputs = self.model(**inputs)\n",
    "        last_hidden_states = outputs[0]\n",
    "        feature = self.pool(last_hidden_states, inputs['attention_mask'])\n",
    "        return feature\n",
    "\n",
    "    def forward(self, inputs):\n",
    "        feature = self.feature(inputs)\n",
    "        output = self.fc(feature)\n",
    "        return output"
   ]
  },
  {
   "cell_type": "markdown",
   "id": "85af5050",
   "metadata": {
    "papermill": {
     "duration": 0.011753,
     "end_time": "2024-05-05T22:30:24.490216",
     "exception": false,
     "start_time": "2024-05-05T22:30:24.478463",
     "status": "completed"
    },
    "tags": []
   },
   "source": [
    "# Loss"
   ]
  },
  {
   "cell_type": "code",
   "execution_count": 13,
   "id": "7d7f61ba",
   "metadata": {
    "execution": {
     "iopub.execute_input": "2024-05-05T22:30:24.516121Z",
     "iopub.status.busy": "2024-05-05T22:30:24.515588Z",
     "iopub.status.idle": "2024-05-05T22:30:24.524159Z",
     "shell.execute_reply": "2024-05-05T22:30:24.523138Z"
    },
    "papermill": {
     "duration": 0.024073,
     "end_time": "2024-05-05T22:30:24.526556",
     "exception": false,
     "start_time": "2024-05-05T22:30:24.502483",
     "status": "completed"
    },
    "tags": []
   },
   "outputs": [],
   "source": [
    "# ====================================================\n",
    "# Loss\n",
    "# ====================================================\n",
    "class RMSELoss(nn.Module):\n",
    "    def __init__(self, reduction='mean', eps=1e-9):\n",
    "        super().__init__()\n",
    "        self.mse = nn.MSELoss(reduction='none')\n",
    "        self.reduction = reduction\n",
    "        self.eps = eps\n",
    "\n",
    "    def forward(self, y_pred, y_true):\n",
    "        loss = torch.sqrt(self.mse(y_pred, y_true) + self.eps)\n",
    "        if self.reduction == 'none':\n",
    "            loss = loss\n",
    "        elif self.reduction == 'sum':\n",
    "            loss = loss.sum()\n",
    "        elif self.reduction == 'mean':\n",
    "            loss = loss.mean()\n",
    "        return loss"
   ]
  },
  {
   "cell_type": "markdown",
   "id": "293a4da6",
   "metadata": {
    "papermill": {
     "duration": 0.011966,
     "end_time": "2024-05-05T22:30:24.551033",
     "exception": false,
     "start_time": "2024-05-05T22:30:24.539067",
     "status": "completed"
    },
    "tags": []
   },
   "source": [
    "# Helpler functions"
   ]
  },
  {
   "cell_type": "code",
   "execution_count": 14,
   "id": "df62462b",
   "metadata": {
    "execution": {
     "iopub.execute_input": "2024-05-05T22:30:24.577527Z",
     "iopub.status.busy": "2024-05-05T22:30:24.577226Z",
     "iopub.status.idle": "2024-05-05T22:30:24.603360Z",
     "shell.execute_reply": "2024-05-05T22:30:24.602419Z"
    },
    "papermill": {
     "duration": 0.042848,
     "end_time": "2024-05-05T22:30:24.605785",
     "exception": false,
     "start_time": "2024-05-05T22:30:24.562937",
     "status": "completed"
    },
    "tags": []
   },
   "outputs": [],
   "source": [
    "# ====================================================\n",
    "# Helper functions\n",
    "# ====================================================\n",
    "class AverageMeter(object):\n",
    "    \"\"\"Computes and stores the average and current value\"\"\"\n",
    "    def __init__(self):\n",
    "        self.reset()\n",
    "\n",
    "    def reset(self):\n",
    "        self.val = 0\n",
    "        self.avg = 0\n",
    "        self.sum = 0\n",
    "        self.count = 0\n",
    "\n",
    "    def update(self, val, n=1):\n",
    "        self.val = val\n",
    "        self.sum += val * n\n",
    "        self.count += n\n",
    "        self.avg = self.sum / self.count\n",
    "\n",
    "\n",
    "def asMinutes(s):\n",
    "    m = math.floor(s / 60)\n",
    "    s -= m * 60\n",
    "    return '%dm %ds' % (m, s)\n",
    "\n",
    "\n",
    "def timeSince(since, percent):\n",
    "    now = time.time()\n",
    "    s = now - since\n",
    "    es = s / (percent)\n",
    "    rs = es - s\n",
    "    return '%s (remain %s)' % (asMinutes(s), asMinutes(rs))\n",
    "\n",
    "\n",
    "def train_fn(fold, train_loader, model, criterion, optimizer, epoch, scheduler, device):\n",
    "    model.train()\n",
    "    scaler = torch.cuda.amp.GradScaler(enabled=CFG.apex)\n",
    "    losses = AverageMeter()\n",
    "    start = end = time.time()\n",
    "    global_step = 0\n",
    "    for step, (inputs, labels) in enumerate(train_loader):\n",
    "        inputs = collate(inputs)\n",
    "        for k, v in inputs.items():\n",
    "            inputs[k] = v.to(device)\n",
    "        labels = labels.to(device)\n",
    "        batch_size = labels.size(0)\n",
    "        with torch.cuda.amp.autocast(enabled=CFG.apex):\n",
    "            y_preds = model(inputs)\n",
    "            loss = criterion(y_preds, labels)\n",
    "        if CFG.gradient_accumulation_steps > 1:\n",
    "            loss = loss / CFG.gradient_accumulation_steps\n",
    "        losses.update(loss.item(), batch_size)\n",
    "        scaler.scale(loss).backward()\n",
    "        grad_norm = torch.nn.utils.clip_grad_norm_(model.parameters(), CFG.max_grad_norm)\n",
    "        if (step + 1) % CFG.gradient_accumulation_steps == 0:\n",
    "            scaler.step(optimizer)\n",
    "            scaler.update()\n",
    "            optimizer.zero_grad()\n",
    "            global_step += 1\n",
    "            if CFG.batch_scheduler:\n",
    "                scheduler.step()\n",
    "        end = time.time()\n",
    "        if step % CFG.print_freq == 0 or step == (len(train_loader)-1):\n",
    "            print('Epoch: [{0}][{1}/{2}] '\n",
    "                  'Elapsed {remain:s} '\n",
    "                  'Loss: {loss.val:.4f}({loss.avg:.4f}) '\n",
    "                  'Grad: {grad_norm:.4f}  '\n",
    "                  'LR: {lr:.8f}  '\n",
    "                  .format(epoch+1, step, len(train_loader), \n",
    "                          remain=timeSince(start, float(step+1)/len(train_loader)),\n",
    "                          loss=losses,\n",
    "                          grad_norm=grad_norm,\n",
    "                          lr=scheduler.get_lr()[0]))\n",
    "        if CFG.wandb:\n",
    "            wandb.log({f\"[fold{fold}] loss\": losses.val,\n",
    "                       f\"[fold{fold}] lr\": scheduler.get_lr()[0]})\n",
    "    return losses.avg\n",
    "\n",
    "\n",
    "def valid_fn(valid_loader, model, criterion, device):\n",
    "    losses = AverageMeter()\n",
    "    model.eval()\n",
    "    preds = []\n",
    "    start = end = time.time()\n",
    "    for step, (inputs, labels) in enumerate(valid_loader):\n",
    "        inputs = collate(inputs)\n",
    "        for k, v in inputs.items():\n",
    "            inputs[k] = v.to(device)\n",
    "        labels = labels.to(device)\n",
    "        batch_size = labels.size(0)\n",
    "        with torch.no_grad():\n",
    "            y_preds = model(inputs)\n",
    "            loss = criterion(y_preds, labels)\n",
    "        if CFG.gradient_accumulation_steps > 1:\n",
    "            loss = loss / CFG.gradient_accumulation_steps\n",
    "        losses.update(loss.item(), batch_size)\n",
    "        preds.append(y_preds.to('cpu').numpy())\n",
    "        end = time.time()\n",
    "        if step % CFG.print_freq == 0 or step == (len(valid_loader)-1):\n",
    "            print('EVAL: [{0}/{1}] '\n",
    "                  'Elapsed {remain:s} '\n",
    "                  'Loss: {loss.val:.4f}({loss.avg:.4f}) '\n",
    "                  .format(step, len(valid_loader),\n",
    "                          loss=losses,\n",
    "                          remain=timeSince(start, float(step+1)/len(valid_loader))))\n",
    "    predictions = np.concatenate(preds)\n",
    "    return losses.avg, predictions"
   ]
  },
  {
   "cell_type": "markdown",
   "id": "c27236a0",
   "metadata": {
    "papermill": {
     "duration": 0.012287,
     "end_time": "2024-05-05T22:30:24.631409",
     "exception": false,
     "start_time": "2024-05-05T22:30:24.619122",
     "status": "completed"
    },
    "tags": []
   },
   "source": [
    "# Train Loop"
   ]
  },
  {
   "cell_type": "code",
   "execution_count": 15,
   "id": "930c9319",
   "metadata": {
    "execution": {
     "iopub.execute_input": "2024-05-05T22:30:24.658739Z",
     "iopub.status.busy": "2024-05-05T22:30:24.658427Z",
     "iopub.status.idle": "2024-05-05T22:30:24.686684Z",
     "shell.execute_reply": "2024-05-05T22:30:24.684556Z"
    },
    "papermill": {
     "duration": 0.04577,
     "end_time": "2024-05-05T22:30:24.689915",
     "exception": false,
     "start_time": "2024-05-05T22:30:24.644145",
     "status": "completed"
    },
    "tags": []
   },
   "outputs": [],
   "source": [
    "# ====================================================\n",
    "# train loop\n",
    "# ====================================================\n",
    "def train_loop(folds, fold):\n",
    "    \n",
    "    LOGGER.info(f\"========== fold: {fold} training ==========\")\n",
    "\n",
    "    # ====================================================\n",
    "    # loader\n",
    "    # ====================================================\n",
    "    train_folds = folds[folds['fold'] != fold].reset_index(drop=True)\n",
    "    valid_folds = folds[folds['fold'] == fold].reset_index(drop=True)\n",
    "    valid_labels = valid_folds[CFG.target_cols].values\n",
    "    \n",
    "    train_dataset = TrainDataset(CFG, train_folds)\n",
    "    valid_dataset = TrainDataset(CFG, valid_folds)\n",
    "\n",
    "    train_loader = DataLoader(train_dataset,\n",
    "                              batch_size=CFG.batch_size,\n",
    "                              shuffle=True,\n",
    "                              num_workers=CFG.num_workers, pin_memory=True, drop_last=True)\n",
    "    valid_loader = DataLoader(valid_dataset,\n",
    "                              batch_size=CFG.batch_size * 2,\n",
    "                              shuffle=False,\n",
    "                              num_workers=CFG.num_workers, pin_memory=True, drop_last=False)\n",
    "\n",
    "    # ====================================================\n",
    "    # model & optimizer\n",
    "    # ====================================================\n",
    "    model = CustomModel(CFG, config_path=None, pretrained=True)\n",
    "    torch.save(model.config, OUTPUT_DIR+'config.pth')\n",
    "    model.to(device)\n",
    "    \n",
    "    def get_optimizer_params(model, encoder_lr, decoder_lr, weight_decay=0.0):\n",
    "        param_optimizer = list(model.named_parameters())\n",
    "        no_decay = [\"bias\", \"LayerNorm.bias\", \"LayerNorm.weight\"]\n",
    "        optimizer_parameters = [\n",
    "            {'params': [p for n, p in model.model.named_parameters() if not any(nd in n for nd in no_decay)],\n",
    "             'lr': encoder_lr, 'weight_decay': weight_decay},\n",
    "            {'params': [p for n, p in model.model.named_parameters() if any(nd in n for nd in no_decay)],\n",
    "             'lr': encoder_lr, 'weight_decay': 0.0},\n",
    "            {'params': [p for n, p in model.named_parameters() if \"model\" not in n],\n",
    "             'lr': decoder_lr, 'weight_decay': 0.0}\n",
    "        ]\n",
    "        return optimizer_parameters\n",
    "\n",
    "    optimizer_parameters = get_optimizer_params(model,\n",
    "                                                encoder_lr=CFG.encoder_lr, \n",
    "                                                decoder_lr=CFG.decoder_lr,\n",
    "                                                weight_decay=CFG.weight_decay)\n",
    "    optimizer = AdamW(optimizer_parameters, lr=CFG.encoder_lr, eps=CFG.eps, betas=CFG.betas)\n",
    "    \n",
    "    # ====================================================\n",
    "    # scheduler\n",
    "    # ====================================================\n",
    "    def get_scheduler(cfg, optimizer, num_train_steps):\n",
    "        if cfg.scheduler == 'linear':\n",
    "            scheduler = get_linear_schedule_with_warmup(\n",
    "                optimizer, num_warmup_steps=cfg.num_warmup_steps, num_training_steps=num_train_steps\n",
    "            )\n",
    "        elif cfg.scheduler == 'cosine':\n",
    "            scheduler = get_cosine_schedule_with_warmup(\n",
    "                optimizer, num_warmup_steps=cfg.num_warmup_steps, num_training_steps=num_train_steps, num_cycles=cfg.num_cycles\n",
    "            )\n",
    "        return scheduler\n",
    "    \n",
    "    num_train_steps = int(len(train_folds) / CFG.batch_size * CFG.epochs)\n",
    "    scheduler = get_scheduler(CFG, optimizer, num_train_steps)\n",
    "\n",
    "    # ====================================================\n",
    "    # loop\n",
    "    # ====================================================\n",
    "    criterion = nn.SmoothL1Loss(reduction='mean') # RMSELoss(reduction=\"mean\")\n",
    "    \n",
    "    best_score = np.inf\n",
    "\n",
    "    for epoch in range(CFG.epochs):\n",
    "\n",
    "        start_time = time.time()\n",
    "\n",
    "        # train\n",
    "        avg_loss = train_fn(fold, train_loader, model, criterion, optimizer, epoch, scheduler, device)\n",
    "\n",
    "        # eval\n",
    "        avg_val_loss, predictions = valid_fn(valid_loader, model, criterion, device)\n",
    "        \n",
    "        # scoring\n",
    "        score, scores = get_score(valid_labels, predictions)\n",
    "\n",
    "        elapsed = time.time() - start_time\n",
    "\n",
    "        LOGGER.info(f'Epoch {epoch+1} - avg_train_loss: {avg_loss:.4f}  avg_val_loss: {avg_val_loss:.4f}  time: {elapsed:.0f}s')\n",
    "        LOGGER.info(f'Epoch {epoch+1} - Score: {score:.4f}  Scores: {scores}')\n",
    "        if CFG.wandb:\n",
    "            wandb.log({f\"[fold{fold}] epoch\": epoch+1, \n",
    "                       f\"[fold{fold}] avg_train_loss\": avg_loss, \n",
    "                       f\"[fold{fold}] avg_val_loss\": avg_val_loss,\n",
    "                       f\"[fold{fold}] score\": score})\n",
    "        \n",
    "        if best_score > score:\n",
    "            best_score = score\n",
    "            LOGGER.info(f'Epoch {epoch+1} - Save Best Score: {best_score:.4f} Model')\n",
    "            torch.save({'model': model.state_dict(),\n",
    "                        'predictions': predictions},\n",
    "                        OUTPUT_DIR+f\"{CFG.model.replace('/', '-')}_fold{fold}_best.pth\")\n",
    "\n",
    "    predictions = torch.load(OUTPUT_DIR+f\"{CFG.model.replace('/', '-')}_fold{fold}_best.pth\", \n",
    "                             map_location=torch.device('cpu'))['predictions']\n",
    "    valid_folds[[f\"pred_{c}\" for c in CFG.target_cols]] = predictions\n",
    "\n",
    "    torch.cuda.empty_cache()\n",
    "    gc.collect()\n",
    "    \n",
    "    return valid_folds"
   ]
  },
  {
   "cell_type": "code",
   "execution_count": 16,
   "id": "8354062b",
   "metadata": {
    "execution": {
     "iopub.execute_input": "2024-05-05T22:30:24.717095Z",
     "iopub.status.busy": "2024-05-05T22:30:24.716806Z",
     "iopub.status.idle": "2024-05-05T23:54:07.584312Z",
     "shell.execute_reply": "2024-05-05T23:54:07.583343Z"
    },
    "papermill": {
     "duration": 5022.883933,
     "end_time": "2024-05-05T23:54:07.586979",
     "exception": false,
     "start_time": "2024-05-05T22:30:24.703046",
     "status": "completed"
    },
    "tags": []
   },
   "outputs": [
    {
     "name": "stderr",
     "output_type": "stream",
     "text": [
      "========== fold: 0 training ==========\n",
      "DebertaV2Config {\n",
      "  \"_name_or_path\": \"microsoft/deberta-v3-base\",\n",
      "  \"attention_dropout\": 0.0,\n",
      "  \"attention_probs_dropout_prob\": 0.0,\n",
      "  \"hidden_act\": \"gelu\",\n",
      "  \"hidden_dropout\": 0.0,\n",
      "  \"hidden_dropout_prob\": 0.0,\n",
      "  \"hidden_size\": 768,\n",
      "  \"initializer_range\": 0.02,\n",
      "  \"intermediate_size\": 3072,\n",
      "  \"layer_norm_eps\": 1e-07,\n",
      "  \"max_position_embeddings\": 512,\n",
      "  \"max_relative_positions\": -1,\n",
      "  \"model_type\": \"deberta-v2\",\n",
      "  \"norm_rel_ebd\": \"layer_norm\",\n",
      "  \"num_attention_heads\": 12,\n",
      "  \"num_hidden_layers\": 12,\n",
      "  \"output_hidden_states\": true,\n",
      "  \"pad_token_id\": 0,\n",
      "  \"pooler_dropout\": 0,\n",
      "  \"pooler_hidden_act\": \"gelu\",\n",
      "  \"pooler_hidden_size\": 768,\n",
      "  \"pos_att_type\": [\n",
      "    \"p2c\",\n",
      "    \"c2p\"\n",
      "  ],\n",
      "  \"position_biased_input\": false,\n",
      "  \"position_buckets\": 256,\n",
      "  \"relative_attention\": true,\n",
      "  \"share_att_key\": true,\n",
      "  \"transformers_version\": \"4.21.2\",\n",
      "  \"type_vocab_size\": 0,\n",
      "  \"vocab_size\": 128100\n",
      "}\n",
      "\n"
     ]
    },
    {
     "data": {
      "application/vnd.jupyter.widget-view+json": {
       "model_id": "37e31c51e6ed470fbecf31da0333d892",
       "version_major": 2,
       "version_minor": 0
      },
      "text/plain": [
       "Downloading pytorch_model.bin:   0%|          | 0.00/354M [00:00<?, ?B/s]"
      ]
     },
     "metadata": {},
     "output_type": "display_data"
    },
    {
     "name": "stderr",
     "output_type": "stream",
     "text": [
      "Some weights of the model checkpoint at microsoft/deberta-v3-base were not used when initializing DebertaV2Model: ['mask_predictions.dense.weight', 'mask_predictions.LayerNorm.bias', 'mask_predictions.LayerNorm.weight', 'lm_predictions.lm_head.LayerNorm.weight', 'lm_predictions.lm_head.LayerNorm.bias', 'mask_predictions.classifier.bias', 'lm_predictions.lm_head.bias', 'lm_predictions.lm_head.dense.weight', 'mask_predictions.dense.bias', 'lm_predictions.lm_head.dense.bias', 'mask_predictions.classifier.weight']\n",
      "- This IS expected if you are initializing DebertaV2Model from the checkpoint of a model trained on another task or with another architecture (e.g. initializing a BertForSequenceClassification model from a BertForPreTraining model).\n",
      "- This IS NOT expected if you are initializing DebertaV2Model from the checkpoint of a model that you expect to be exactly identical (initializing a BertForSequenceClassification model from a BertForSequenceClassification model).\n"
     ]
    },
    {
     "name": "stdout",
     "output_type": "stream",
     "text": [
      "Epoch: [1][0/293] Elapsed 0m 3s (remain 15m 19s) Loss: 2.6669(2.6669) Grad: inf  LR: 0.00002000  \n",
      "Epoch: [1][20/293] Elapsed 0m 44s (remain 9m 37s) Loss: 0.3123(1.3006) Grad: 147894.9531  LR: 0.00001994  \n",
      "Epoch: [1][40/293] Elapsed 1m 22s (remain 8m 26s) Loss: 0.1800(0.7700) Grad: 57320.8867  LR: 0.00001976  \n",
      "Epoch: [1][60/293] Elapsed 2m 8s (remain 8m 8s) Loss: 0.0719(0.5690) Grad: 63681.4805  LR: 0.00001947  \n",
      "Epoch: [1][80/293] Elapsed 2m 41s (remain 7m 3s) Loss: 0.1561(0.4677) Grad: 135419.4062  LR: 0.00001907  \n",
      "Epoch: [1][100/293] Elapsed 3m 14s (remain 6m 9s) Loss: 0.1379(0.4027) Grad: 79917.3047  LR: 0.00001857  \n",
      "Epoch: [1][120/293] Elapsed 3m 55s (remain 5m 34s) Loss: 0.1158(0.3559) Grad: 57050.0039  LR: 0.00001797  \n",
      "Epoch: [1][140/293] Elapsed 4m 32s (remain 4m 53s) Loss: 0.1637(0.3232) Grad: 50002.2891  LR: 0.00001728  \n",
      "Epoch: [1][160/293] Elapsed 5m 8s (remain 4m 12s) Loss: 0.1392(0.2975) Grad: 68783.7422  LR: 0.00001650  \n",
      "Epoch: [1][180/293] Elapsed 5m 52s (remain 3m 38s) Loss: 0.1894(0.2786) Grad: 68779.1797  LR: 0.00001565  \n",
      "Epoch: [1][200/293] Elapsed 6m 30s (remain 2m 58s) Loss: 0.1575(0.2628) Grad: 59118.6445  LR: 0.00001473  \n",
      "Epoch: [1][220/293] Elapsed 7m 8s (remain 2m 19s) Loss: 0.1290(0.2499) Grad: 72712.1328  LR: 0.00001376  \n",
      "Epoch: [1][240/293] Elapsed 7m 43s (remain 1m 39s) Loss: 0.1594(0.2386) Grad: 72906.4297  LR: 0.00001275  \n",
      "Epoch: [1][260/293] Elapsed 8m 29s (remain 1m 2s) Loss: 0.2546(0.2297) Grad: 71479.5547  LR: 0.00001171  \n",
      "Epoch: [1][280/293] Elapsed 9m 4s (remain 0m 23s) Loss: 0.0855(0.2217) Grad: 57419.0664  LR: 0.00001064  \n",
      "Epoch: [1][292/293] Elapsed 9m 30s (remain 0m 0s) Loss: 0.1020(0.2168) Grad: 53571.9375  LR: 0.00001000  \n",
      "EVAL: [0/49] Elapsed 0m 1s (remain 1m 9s) Loss: 0.1123(0.1123) \n",
      "EVAL: [20/49] Elapsed 0m 26s (remain 0m 34s) Loss: 0.1362(0.1148) \n",
      "EVAL: [40/49] Elapsed 0m 48s (remain 0m 9s) Loss: 0.1004(0.1125) \n"
     ]
    },
    {
     "name": "stderr",
     "output_type": "stream",
     "text": [
      "Epoch 1 - avg_train_loss: 0.2168  avg_val_loss: 0.1117  time: 628s\n",
      "Epoch 1 - Score: 0.4732  Scores: [0.5457380666130269, 0.46453561670323384, 0.4283166024668232, 0.44975246960511306, 0.4843910205795539, 0.46632148075066204]\n",
      "Epoch 1 - Save Best Score: 0.4732 Model\n"
     ]
    },
    {
     "name": "stdout",
     "output_type": "stream",
     "text": [
      "EVAL: [48/49] Elapsed 0m 57s (remain 0m 0s) Loss: 0.1379(0.1117) \n",
      "Epoch: [2][0/293] Elapsed 0m 1s (remain 6m 52s) Loss: 0.0839(0.0839) Grad: 260142.6406  LR: 0.00000995  \n",
      "Epoch: [2][20/293] Elapsed 0m 42s (remain 9m 12s) Loss: 0.1130(0.1008) Grad: 306543.4062  LR: 0.00000888  \n",
      "Epoch: [2][40/293] Elapsed 1m 23s (remain 8m 34s) Loss: 0.0869(0.1032) Grad: 164239.0156  LR: 0.00000782  \n",
      "Epoch: [2][60/293] Elapsed 2m 0s (remain 7m 39s) Loss: 0.1249(0.1028) Grad: inf  LR: 0.00000679  \n",
      "Epoch: [2][80/293] Elapsed 2m 38s (remain 6m 55s) Loss: 0.0816(0.1048) Grad: 109840.6875  LR: 0.00000579  \n",
      "Epoch: [2][100/293] Elapsed 3m 25s (remain 6m 30s) Loss: 0.0883(0.1059) Grad: 85122.2578  LR: 0.00000485  \n",
      "Epoch: [2][120/293] Elapsed 4m 4s (remain 5m 47s) Loss: 0.1212(0.1040) Grad: 106126.9844  LR: 0.00000396  \n",
      "Epoch: [2][140/293] Elapsed 4m 46s (remain 5m 8s) Loss: 0.0643(0.1035) Grad: 60738.5078  LR: 0.00000314  \n",
      "Epoch: [2][160/293] Elapsed 5m 28s (remain 4m 29s) Loss: 0.0855(0.1025) Grad: 136179.0156  LR: 0.00000240  \n",
      "Epoch: [2][180/293] Elapsed 6m 6s (remain 3m 46s) Loss: 0.1080(0.1029) Grad: 120355.6172  LR: 0.00000175  \n",
      "Epoch: [2][200/293] Elapsed 6m 43s (remain 3m 4s) Loss: 0.0931(0.1028) Grad: 97547.9609  LR: 0.00000119  \n",
      "Epoch: [2][220/293] Elapsed 7m 16s (remain 2m 22s) Loss: 0.0860(0.1023) Grad: 71549.1641  LR: 0.00000074  \n",
      "Epoch: [2][240/293] Elapsed 7m 55s (remain 1m 42s) Loss: 0.0890(0.1017) Grad: 148223.1094  LR: 0.00000039  \n",
      "Epoch: [2][260/293] Elapsed 8m 35s (remain 1m 3s) Loss: 0.1079(0.1012) Grad: 86467.2891  LR: 0.00000015  \n",
      "Epoch: [2][280/293] Elapsed 9m 10s (remain 0m 23s) Loss: 0.0671(0.1008) Grad: 93668.8438  LR: 0.00000002  \n",
      "Epoch: [2][292/293] Elapsed 9m 31s (remain 0m 0s) Loss: 0.0931(0.1009) Grad: 163058.1719  LR: 0.00000000  \n",
      "EVAL: [0/49] Elapsed 0m 1s (remain 1m 10s) Loss: 0.1050(0.1050) \n",
      "EVAL: [20/49] Elapsed 0m 25s (remain 0m 34s) Loss: 0.1294(0.1097) \n",
      "EVAL: [40/49] Elapsed 0m 47s (remain 0m 9s) Loss: 0.0953(0.1073) \n"
     ]
    },
    {
     "name": "stderr",
     "output_type": "stream",
     "text": [
      "Epoch 2 - avg_train_loss: 0.1009  avg_val_loss: 0.1065  time: 628s\n",
      "Epoch 2 - Score: 0.4616  Scores: [0.5255476736451616, 0.4491735255649419, 0.4150018889464276, 0.4469070519205784, 0.4786604548899618, 0.4544604112626731]\n",
      "Epoch 2 - Save Best Score: 0.4616 Model\n"
     ]
    },
    {
     "name": "stdout",
     "output_type": "stream",
     "text": [
      "EVAL: [48/49] Elapsed 0m 56s (remain 0m 0s) Loss: 0.1330(0.1065) \n"
     ]
    },
    {
     "name": "stderr",
     "output_type": "stream",
     "text": [
      "========== fold: 0 result ==========\n",
      "Score: 0.4616  Scores: [0.5255476736451616, 0.4491735255649419, 0.4150018889464276, 0.4469070519205784, 0.4786604548899618, 0.4544604112626731]\n",
      "========== fold: 1 training ==========\n",
      "DebertaV2Config {\n",
      "  \"_name_or_path\": \"microsoft/deberta-v3-base\",\n",
      "  \"attention_dropout\": 0.0,\n",
      "  \"attention_probs_dropout_prob\": 0.0,\n",
      "  \"hidden_act\": \"gelu\",\n",
      "  \"hidden_dropout\": 0.0,\n",
      "  \"hidden_dropout_prob\": 0.0,\n",
      "  \"hidden_size\": 768,\n",
      "  \"initializer_range\": 0.02,\n",
      "  \"intermediate_size\": 3072,\n",
      "  \"layer_norm_eps\": 1e-07,\n",
      "  \"max_position_embeddings\": 512,\n",
      "  \"max_relative_positions\": -1,\n",
      "  \"model_type\": \"deberta-v2\",\n",
      "  \"norm_rel_ebd\": \"layer_norm\",\n",
      "  \"num_attention_heads\": 12,\n",
      "  \"num_hidden_layers\": 12,\n",
      "  \"output_hidden_states\": true,\n",
      "  \"pad_token_id\": 0,\n",
      "  \"pooler_dropout\": 0,\n",
      "  \"pooler_hidden_act\": \"gelu\",\n",
      "  \"pooler_hidden_size\": 768,\n",
      "  \"pos_att_type\": [\n",
      "    \"p2c\",\n",
      "    \"c2p\"\n",
      "  ],\n",
      "  \"position_biased_input\": false,\n",
      "  \"position_buckets\": 256,\n",
      "  \"relative_attention\": true,\n",
      "  \"share_att_key\": true,\n",
      "  \"transformers_version\": \"4.21.2\",\n",
      "  \"type_vocab_size\": 0,\n",
      "  \"vocab_size\": 128100\n",
      "}\n",
      "\n",
      "Some weights of the model checkpoint at microsoft/deberta-v3-base were not used when initializing DebertaV2Model: ['mask_predictions.dense.weight', 'mask_predictions.LayerNorm.bias', 'mask_predictions.LayerNorm.weight', 'lm_predictions.lm_head.LayerNorm.weight', 'lm_predictions.lm_head.LayerNorm.bias', 'mask_predictions.classifier.bias', 'lm_predictions.lm_head.bias', 'lm_predictions.lm_head.dense.weight', 'mask_predictions.dense.bias', 'lm_predictions.lm_head.dense.bias', 'mask_predictions.classifier.weight']\n",
      "- This IS expected if you are initializing DebertaV2Model from the checkpoint of a model trained on another task or with another architecture (e.g. initializing a BertForSequenceClassification model from a BertForPreTraining model).\n",
      "- This IS NOT expected if you are initializing DebertaV2Model from the checkpoint of a model that you expect to be exactly identical (initializing a BertForSequenceClassification model from a BertForSequenceClassification model).\n"
     ]
    },
    {
     "name": "stdout",
     "output_type": "stream",
     "text": [
      "Epoch: [1][0/293] Elapsed 0m 1s (remain 7m 23s) Loss: 2.1498(2.1498) Grad: inf  LR: 0.00002000  \n",
      "Epoch: [1][20/293] Elapsed 0m 46s (remain 9m 56s) Loss: 0.1495(1.3177) Grad: 113444.3203  LR: 0.00001994  \n",
      "Epoch: [1][40/293] Elapsed 1m 24s (remain 8m 41s) Loss: 0.2479(0.7883) Grad: 318464.2500  LR: 0.00001976  \n",
      "Epoch: [1][60/293] Elapsed 2m 4s (remain 7m 53s) Loss: 0.1774(0.5930) Grad: 140407.0000  LR: 0.00001947  \n",
      "Epoch: [1][80/293] Elapsed 2m 41s (remain 7m 2s) Loss: 0.1741(0.4853) Grad: 125013.0234  LR: 0.00001907  \n",
      "Epoch: [1][100/293] Elapsed 3m 16s (remain 6m 12s) Loss: 0.1199(0.4150) Grad: 50290.5039  LR: 0.00001857  \n",
      "Epoch: [1][120/293] Elapsed 3m 56s (remain 5m 36s) Loss: 0.1141(0.3684) Grad: 65215.6836  LR: 0.00001797  \n",
      "Epoch: [1][140/293] Elapsed 4m 38s (remain 5m 0s) Loss: 0.1019(0.3356) Grad: 54059.3008  LR: 0.00001728  \n",
      "Epoch: [1][160/293] Elapsed 5m 14s (remain 4m 17s) Loss: 0.1053(0.3089) Grad: 77060.9297  LR: 0.00001650  \n",
      "Epoch: [1][180/293] Elapsed 5m 50s (remain 3m 36s) Loss: 0.2124(0.2910) Grad: 54068.9180  LR: 0.00001565  \n",
      "Epoch: [1][200/293] Elapsed 6m 23s (remain 2m 55s) Loss: 0.1313(0.2757) Grad: 116648.1875  LR: 0.00001473  \n",
      "Epoch: [1][220/293] Elapsed 7m 4s (remain 2m 18s) Loss: 0.0902(0.2624) Grad: 83833.6641  LR: 0.00001376  \n",
      "Epoch: [1][240/293] Elapsed 7m 47s (remain 1m 40s) Loss: 0.1786(0.2522) Grad: 130724.3594  LR: 0.00001275  \n",
      "Epoch: [1][260/293] Elapsed 8m 21s (remain 1m 1s) Loss: 0.0817(0.2444) Grad: 41762.9570  LR: 0.00001171  \n",
      "Epoch: [1][280/293] Elapsed 8m 57s (remain 0m 22s) Loss: 0.1127(0.2355) Grad: 84278.1016  LR: 0.00001064  \n",
      "Epoch: [1][292/293] Elapsed 9m 16s (remain 0m 0s) Loss: 0.2025(0.2307) Grad: 77517.3828  LR: 0.00001000  \n",
      "EVAL: [0/49] Elapsed 0m 0s (remain 0m 47s) Loss: 0.1033(0.1033) \n",
      "EVAL: [20/49] Elapsed 0m 26s (remain 0m 34s) Loss: 0.0897(0.1065) \n",
      "EVAL: [40/49] Elapsed 0m 53s (remain 0m 10s) Loss: 0.0673(0.1063) \n"
     ]
    },
    {
     "name": "stderr",
     "output_type": "stream",
     "text": [
      "Epoch 1 - avg_train_loss: 0.2307  avg_val_loss: 0.1064  time: 620s\n",
      "Epoch 1 - Score: 0.4620  Scores: [0.4847014765962732, 0.45334360637110416, 0.4238548356345285, 0.4645327169068475, 0.4883645446298583, 0.4574671999385159]\n",
      "Epoch 1 - Save Best Score: 0.4620 Model\n"
     ]
    },
    {
     "name": "stdout",
     "output_type": "stream",
     "text": [
      "EVAL: [48/49] Elapsed 1m 3s (remain 0m 0s) Loss: 0.1274(0.1064) \n",
      "Epoch: [2][0/293] Elapsed 0m 1s (remain 6m 27s) Loss: 0.1118(0.1118) Grad: 158028.6562  LR: 0.00000995  \n",
      "Epoch: [2][20/293] Elapsed 0m 44s (remain 9m 41s) Loss: 0.1310(0.1074) Grad: 207041.2031  LR: 0.00000888  \n",
      "Epoch: [2][40/293] Elapsed 1m 24s (remain 8m 40s) Loss: 0.1017(0.1131) Grad: 56006.4531  LR: 0.00000782  \n",
      "Epoch: [2][60/293] Elapsed 2m 4s (remain 7m 55s) Loss: 0.0923(0.1097) Grad: 125440.3594  LR: 0.00000679  \n",
      "Epoch: [2][80/293] Elapsed 2m 41s (remain 7m 2s) Loss: 0.1614(0.1076) Grad: 68173.5156  LR: 0.00000579  \n",
      "Epoch: [2][100/293] Elapsed 3m 20s (remain 6m 20s) Loss: 0.1289(0.1072) Grad: 137376.9844  LR: 0.00000485  \n",
      "Epoch: [2][120/293] Elapsed 3m 57s (remain 5m 37s) Loss: 0.0940(0.1055) Grad: 81435.4062  LR: 0.00000396  \n",
      "Epoch: [2][140/293] Elapsed 4m 37s (remain 4m 58s) Loss: 0.1236(0.1062) Grad: 58054.3906  LR: 0.00000314  \n",
      "Epoch: [2][160/293] Elapsed 5m 18s (remain 4m 20s) Loss: 0.0623(0.1059) Grad: 47971.9805  LR: 0.00000240  \n",
      "Epoch: [2][180/293] Elapsed 5m 56s (remain 3m 40s) Loss: 0.1120(0.1058) Grad: 113505.7344  LR: 0.00000175  \n",
      "Epoch: [2][200/293] Elapsed 6m 26s (remain 2m 57s) Loss: 0.0983(0.1044) Grad: 96304.5156  LR: 0.00000119  \n",
      "Epoch: [2][220/293] Elapsed 7m 0s (remain 2m 16s) Loss: 0.0811(0.1048) Grad: 57949.9258  LR: 0.00000074  \n",
      "Epoch: [2][240/293] Elapsed 7m 46s (remain 1m 40s) Loss: 0.1100(0.1048) Grad: 82659.4219  LR: 0.00000039  \n",
      "Epoch: [2][260/293] Elapsed 8m 20s (remain 1m 1s) Loss: 0.1808(0.1050) Grad: 94496.7344  LR: 0.00000015  \n",
      "Epoch: [2][280/293] Elapsed 8m 55s (remain 0m 22s) Loss: 0.1031(0.1044) Grad: 91324.8047  LR: 0.00000002  \n",
      "Epoch: [2][292/293] Elapsed 9m 18s (remain 0m 0s) Loss: 0.1594(0.1043) Grad: 120668.0078  LR: 0.00000000  \n",
      "EVAL: [0/49] Elapsed 0m 1s (remain 0m 48s) Loss: 0.1014(0.1014) \n",
      "EVAL: [20/49] Elapsed 0m 25s (remain 0m 33s) Loss: 0.0927(0.1035) \n",
      "EVAL: [40/49] Elapsed 0m 52s (remain 0m 10s) Loss: 0.0673(0.1029) \n"
     ]
    },
    {
     "name": "stderr",
     "output_type": "stream",
     "text": [
      "Epoch 2 - avg_train_loss: 0.1043  avg_val_loss: 0.1028  time: 621s\n",
      "Epoch 2 - Score: 0.4539  Scores: [0.4833298554039856, 0.44028204024537926, 0.4151665911867766, 0.46080089808915436, 0.4786449723776812, 0.44499036382991514]\n",
      "Epoch 2 - Save Best Score: 0.4539 Model\n"
     ]
    },
    {
     "name": "stdout",
     "output_type": "stream",
     "text": [
      "EVAL: [48/49] Elapsed 1m 2s (remain 0m 0s) Loss: 0.1194(0.1028) \n"
     ]
    },
    {
     "name": "stderr",
     "output_type": "stream",
     "text": [
      "========== fold: 1 result ==========\n",
      "Score: 0.4539  Scores: [0.4833298554039856, 0.44028204024537926, 0.4151665911867766, 0.46080089808915436, 0.4786449723776812, 0.44499036382991514]\n",
      "========== fold: 2 training ==========\n",
      "DebertaV2Config {\n",
      "  \"_name_or_path\": \"microsoft/deberta-v3-base\",\n",
      "  \"attention_dropout\": 0.0,\n",
      "  \"attention_probs_dropout_prob\": 0.0,\n",
      "  \"hidden_act\": \"gelu\",\n",
      "  \"hidden_dropout\": 0.0,\n",
      "  \"hidden_dropout_prob\": 0.0,\n",
      "  \"hidden_size\": 768,\n",
      "  \"initializer_range\": 0.02,\n",
      "  \"intermediate_size\": 3072,\n",
      "  \"layer_norm_eps\": 1e-07,\n",
      "  \"max_position_embeddings\": 512,\n",
      "  \"max_relative_positions\": -1,\n",
      "  \"model_type\": \"deberta-v2\",\n",
      "  \"norm_rel_ebd\": \"layer_norm\",\n",
      "  \"num_attention_heads\": 12,\n",
      "  \"num_hidden_layers\": 12,\n",
      "  \"output_hidden_states\": true,\n",
      "  \"pad_token_id\": 0,\n",
      "  \"pooler_dropout\": 0,\n",
      "  \"pooler_hidden_act\": \"gelu\",\n",
      "  \"pooler_hidden_size\": 768,\n",
      "  \"pos_att_type\": [\n",
      "    \"p2c\",\n",
      "    \"c2p\"\n",
      "  ],\n",
      "  \"position_biased_input\": false,\n",
      "  \"position_buckets\": 256,\n",
      "  \"relative_attention\": true,\n",
      "  \"share_att_key\": true,\n",
      "  \"transformers_version\": \"4.21.2\",\n",
      "  \"type_vocab_size\": 0,\n",
      "  \"vocab_size\": 128100\n",
      "}\n",
      "\n",
      "Some weights of the model checkpoint at microsoft/deberta-v3-base were not used when initializing DebertaV2Model: ['mask_predictions.dense.weight', 'mask_predictions.LayerNorm.bias', 'mask_predictions.LayerNorm.weight', 'lm_predictions.lm_head.LayerNorm.weight', 'lm_predictions.lm_head.LayerNorm.bias', 'mask_predictions.classifier.bias', 'lm_predictions.lm_head.bias', 'lm_predictions.lm_head.dense.weight', 'mask_predictions.dense.bias', 'lm_predictions.lm_head.dense.bias', 'mask_predictions.classifier.weight']\n",
      "- This IS expected if you are initializing DebertaV2Model from the checkpoint of a model trained on another task or with another architecture (e.g. initializing a BertForSequenceClassification model from a BertForPreTraining model).\n",
      "- This IS NOT expected if you are initializing DebertaV2Model from the checkpoint of a model that you expect to be exactly identical (initializing a BertForSequenceClassification model from a BertForSequenceClassification model).\n"
     ]
    },
    {
     "name": "stdout",
     "output_type": "stream",
     "text": [
      "Epoch: [1][0/293] Elapsed 0m 1s (remain 8m 34s) Loss: 2.2734(2.2734) Grad: inf  LR: 0.00002000  \n",
      "Epoch: [1][20/293] Elapsed 0m 42s (remain 9m 4s) Loss: 0.3839(1.3221) Grad: 98528.9531  LR: 0.00001994  \n",
      "Epoch: [1][40/293] Elapsed 1m 20s (remain 8m 13s) Loss: 0.3043(0.7736) Grad: 52472.8164  LR: 0.00001976  \n",
      "Epoch: [1][60/293] Elapsed 1m 59s (remain 7m 35s) Loss: 0.1534(0.5796) Grad: 89325.5781  LR: 0.00001947  \n",
      "Epoch: [1][80/293] Elapsed 2m 44s (remain 7m 10s) Loss: 0.1695(0.4724) Grad: 90869.4375  LR: 0.00001907  \n",
      "Epoch: [1][100/293] Elapsed 3m 22s (remain 6m 25s) Loss: 0.1172(0.4058) Grad: 38556.6328  LR: 0.00001857  \n",
      "Epoch: [1][120/293] Elapsed 3m 57s (remain 5m 37s) Loss: 0.1318(0.3613) Grad: 100389.9688  LR: 0.00001797  \n",
      "Epoch: [1][140/293] Elapsed 4m 34s (remain 4m 55s) Loss: 0.1630(0.3282) Grad: 71079.1562  LR: 0.00001728  \n",
      "Epoch: [1][160/293] Elapsed 5m 10s (remain 4m 14s) Loss: 0.1062(0.3018) Grad: 68774.7734  LR: 0.00001650  \n",
      "Epoch: [1][180/293] Elapsed 5m 43s (remain 3m 32s) Loss: 0.1671(0.2816) Grad: 124165.5312  LR: 0.00001565  \n",
      "Epoch: [1][200/293] Elapsed 6m 25s (remain 2m 56s) Loss: 0.0965(0.2667) Grad: 42520.8516  LR: 0.00001473  \n",
      "Epoch: [1][220/293] Elapsed 7m 2s (remain 2m 17s) Loss: 0.1309(0.2534) Grad: 53327.0312  LR: 0.00001376  \n",
      "Epoch: [1][240/293] Elapsed 7m 42s (remain 1m 39s) Loss: 0.1166(0.2427) Grad: 87578.7266  LR: 0.00001275  \n",
      "Epoch: [1][260/293] Elapsed 8m 18s (remain 1m 1s) Loss: 0.0911(0.2340) Grad: 37830.3555  LR: 0.00001171  \n",
      "Epoch: [1][280/293] Elapsed 8m 47s (remain 0m 22s) Loss: 0.1242(0.2260) Grad: 90455.4844  LR: 0.00001064  \n",
      "Epoch: [1][292/293] Elapsed 9m 10s (remain 0m 0s) Loss: 0.0983(0.2212) Grad: 29116.9453  LR: 0.00001000  \n",
      "EVAL: [0/49] Elapsed 0m 1s (remain 1m 27s) Loss: 0.0888(0.0888) \n",
      "EVAL: [20/49] Elapsed 0m 26s (remain 0m 35s) Loss: 0.1765(0.1199) \n",
      "EVAL: [40/49] Elapsed 0m 49s (remain 0m 9s) Loss: 0.0945(0.1197) \n"
     ]
    },
    {
     "name": "stderr",
     "output_type": "stream",
     "text": [
      "Epoch 1 - avg_train_loss: 0.2212  avg_val_loss: 0.1214  time: 610s\n",
      "Epoch 1 - Score: 0.4945  Scores: [0.5233007958767268, 0.4758029383673772, 0.4587230112741174, 0.4905968757578576, 0.526010448338285, 0.49281407850409964]\n",
      "Epoch 1 - Save Best Score: 0.4945 Model\n"
     ]
    },
    {
     "name": "stdout",
     "output_type": "stream",
     "text": [
      "EVAL: [48/49] Elapsed 0m 59s (remain 0m 0s) Loss: 0.1412(0.1214) \n",
      "Epoch: [2][0/293] Elapsed 0m 1s (remain 9m 5s) Loss: 0.0837(0.0837) Grad: 197190.4219  LR: 0.00000995  \n",
      "Epoch: [2][20/293] Elapsed 0m 37s (remain 8m 3s) Loss: 0.0784(0.1119) Grad: 213115.6406  LR: 0.00000888  \n",
      "Epoch: [2][40/293] Elapsed 1m 20s (remain 8m 14s) Loss: 0.0662(0.1066) Grad: 96384.1094  LR: 0.00000782  \n",
      "Epoch: [2][60/293] Elapsed 1m 51s (remain 7m 4s) Loss: 0.0875(0.1065) Grad: 111473.7891  LR: 0.00000679  \n",
      "Epoch: [2][80/293] Elapsed 2m 32s (remain 6m 38s) Loss: 0.0887(0.1061) Grad: 63118.1641  LR: 0.00000579  \n",
      "Epoch: [2][100/293] Elapsed 3m 8s (remain 5m 59s) Loss: 0.0720(0.1045) Grad: 90545.0078  LR: 0.00000485  \n",
      "Epoch: [2][120/293] Elapsed 3m 41s (remain 5m 14s) Loss: 0.0755(0.1023) Grad: 76750.3594  LR: 0.00000396  \n",
      "Epoch: [2][140/293] Elapsed 4m 15s (remain 4m 35s) Loss: 0.0866(0.1014) Grad: 77131.2578  LR: 0.00000314  \n",
      "Epoch: [2][160/293] Elapsed 4m 54s (remain 4m 1s) Loss: 0.1773(0.1023) Grad: 157454.0938  LR: 0.00000240  \n",
      "Epoch: [2][180/293] Elapsed 5m 30s (remain 3m 24s) Loss: 0.0699(0.1023) Grad: 94751.8203  LR: 0.00000175  \n",
      "Epoch: [2][200/293] Elapsed 6m 11s (remain 2m 50s) Loss: 0.1133(0.1031) Grad: 148355.9375  LR: 0.00000119  \n",
      "Epoch: [2][220/293] Elapsed 6m 50s (remain 2m 13s) Loss: 0.0881(0.1037) Grad: 136380.6406  LR: 0.00000074  \n",
      "Epoch: [2][240/293] Elapsed 7m 27s (remain 1m 36s) Loss: 0.0838(0.1029) Grad: 128735.4844  LR: 0.00000039  \n",
      "Epoch: [2][260/293] Elapsed 8m 12s (remain 1m 0s) Loss: 0.0831(0.1028) Grad: 58792.2070  LR: 0.00000015  \n",
      "Epoch: [2][280/293] Elapsed 8m 56s (remain 0m 22s) Loss: 0.1026(0.1026) Grad: 150015.3594  LR: 0.00000002  \n",
      "Epoch: [2][292/293] Elapsed 9m 16s (remain 0m 0s) Loss: 0.0793(0.1027) Grad: 130850.2891  LR: 0.00000000  \n",
      "EVAL: [0/49] Elapsed 0m 1s (remain 1m 28s) Loss: 0.0725(0.0725) \n",
      "EVAL: [20/49] Elapsed 0m 26s (remain 0m 34s) Loss: 0.1598(0.1095) \n",
      "EVAL: [40/49] Elapsed 0m 49s (remain 0m 9s) Loss: 0.1004(0.1104) \n"
     ]
    },
    {
     "name": "stderr",
     "output_type": "stream",
     "text": [
      "Epoch 2 - avg_train_loss: 0.1027  avg_val_loss: 0.1123  time: 616s\n",
      "Epoch 2 - Score: 0.4749  Scores: [0.504634842131219, 0.45887408899257354, 0.43462899248749637, 0.47446451174168935, 0.5074539374314938, 0.4695495817337974]\n",
      "Epoch 2 - Save Best Score: 0.4749 Model\n"
     ]
    },
    {
     "name": "stdout",
     "output_type": "stream",
     "text": [
      "EVAL: [48/49] Elapsed 0m 59s (remain 0m 0s) Loss: 0.1301(0.1123) \n"
     ]
    },
    {
     "name": "stderr",
     "output_type": "stream",
     "text": [
      "========== fold: 2 result ==========\n",
      "Score: 0.4749  Scores: [0.504634842131219, 0.45887408899257354, 0.43462899248749637, 0.47446451174168935, 0.5074539374314938, 0.4695495817337974]\n",
      "========== fold: 3 training ==========\n",
      "DebertaV2Config {\n",
      "  \"_name_or_path\": \"microsoft/deberta-v3-base\",\n",
      "  \"attention_dropout\": 0.0,\n",
      "  \"attention_probs_dropout_prob\": 0.0,\n",
      "  \"hidden_act\": \"gelu\",\n",
      "  \"hidden_dropout\": 0.0,\n",
      "  \"hidden_dropout_prob\": 0.0,\n",
      "  \"hidden_size\": 768,\n",
      "  \"initializer_range\": 0.02,\n",
      "  \"intermediate_size\": 3072,\n",
      "  \"layer_norm_eps\": 1e-07,\n",
      "  \"max_position_embeddings\": 512,\n",
      "  \"max_relative_positions\": -1,\n",
      "  \"model_type\": \"deberta-v2\",\n",
      "  \"norm_rel_ebd\": \"layer_norm\",\n",
      "  \"num_attention_heads\": 12,\n",
      "  \"num_hidden_layers\": 12,\n",
      "  \"output_hidden_states\": true,\n",
      "  \"pad_token_id\": 0,\n",
      "  \"pooler_dropout\": 0,\n",
      "  \"pooler_hidden_act\": \"gelu\",\n",
      "  \"pooler_hidden_size\": 768,\n",
      "  \"pos_att_type\": [\n",
      "    \"p2c\",\n",
      "    \"c2p\"\n",
      "  ],\n",
      "  \"position_biased_input\": false,\n",
      "  \"position_buckets\": 256,\n",
      "  \"relative_attention\": true,\n",
      "  \"share_att_key\": true,\n",
      "  \"transformers_version\": \"4.21.2\",\n",
      "  \"type_vocab_size\": 0,\n",
      "  \"vocab_size\": 128100\n",
      "}\n",
      "\n",
      "Some weights of the model checkpoint at microsoft/deberta-v3-base were not used when initializing DebertaV2Model: ['mask_predictions.dense.weight', 'mask_predictions.LayerNorm.bias', 'mask_predictions.LayerNorm.weight', 'lm_predictions.lm_head.LayerNorm.weight', 'lm_predictions.lm_head.LayerNorm.bias', 'mask_predictions.classifier.bias', 'lm_predictions.lm_head.bias', 'lm_predictions.lm_head.dense.weight', 'mask_predictions.dense.bias', 'lm_predictions.lm_head.dense.bias', 'mask_predictions.classifier.weight']\n",
      "- This IS expected if you are initializing DebertaV2Model from the checkpoint of a model trained on another task or with another architecture (e.g. initializing a BertForSequenceClassification model from a BertForPreTraining model).\n",
      "- This IS NOT expected if you are initializing DebertaV2Model from the checkpoint of a model that you expect to be exactly identical (initializing a BertForSequenceClassification model from a BertForSequenceClassification model).\n"
     ]
    },
    {
     "name": "stdout",
     "output_type": "stream",
     "text": [
      "Epoch: [1][0/293] Elapsed 0m 1s (remain 7m 10s) Loss: 2.4108(2.4108) Grad: inf  LR: 0.00002000  \n",
      "Epoch: [1][20/293] Elapsed 0m 40s (remain 8m 46s) Loss: 0.1757(1.2539) Grad: 53420.8203  LR: 0.00001994  \n",
      "Epoch: [1][40/293] Elapsed 1m 18s (remain 8m 1s) Loss: 0.1933(0.7332) Grad: 57073.1094  LR: 0.00001976  \n",
      "Epoch: [1][60/293] Elapsed 1m 57s (remain 7m 25s) Loss: 0.1788(0.5425) Grad: 72823.7734  LR: 0.00001947  \n",
      "Epoch: [1][80/293] Elapsed 2m 31s (remain 6m 37s) Loss: 0.0942(0.4394) Grad: 89760.6250  LR: 0.00001907  \n",
      "Epoch: [1][100/293] Elapsed 3m 3s (remain 5m 48s) Loss: 0.1781(0.3818) Grad: 79207.4766  LR: 0.00001857  \n",
      "Epoch: [1][120/293] Elapsed 3m 35s (remain 5m 6s) Loss: 0.0889(0.3384) Grad: 73604.5156  LR: 0.00001797  \n",
      "Epoch: [1][140/293] Elapsed 4m 20s (remain 4m 40s) Loss: 0.0917(0.3094) Grad: 59695.8633  LR: 0.00001728  \n",
      "Epoch: [1][160/293] Elapsed 4m 58s (remain 4m 4s) Loss: 0.1600(0.2892) Grad: 51632.6484  LR: 0.00001650  \n",
      "Epoch: [1][180/293] Elapsed 5m 36s (remain 3m 28s) Loss: 0.1273(0.2702) Grad: 80903.2578  LR: 0.00001565  \n",
      "Epoch: [1][200/293] Elapsed 6m 15s (remain 2m 51s) Loss: 0.0899(0.2556) Grad: 67556.7109  LR: 0.00001473  \n",
      "Epoch: [1][220/293] Elapsed 6m 52s (remain 2m 14s) Loss: 0.1142(0.2435) Grad: 57549.8594  LR: 0.00001376  \n",
      "Epoch: [1][240/293] Elapsed 7m 39s (remain 1m 39s) Loss: 0.1490(0.2345) Grad: 58737.0000  LR: 0.00001275  \n",
      "Epoch: [1][260/293] Elapsed 8m 20s (remain 1m 1s) Loss: 0.1615(0.2269) Grad: 54516.0938  LR: 0.00001171  \n",
      "Epoch: [1][280/293] Elapsed 8m 59s (remain 0m 23s) Loss: 0.1382(0.2188) Grad: 39677.9453  LR: 0.00001064  \n",
      "Epoch: [1][292/293] Elapsed 9m 19s (remain 0m 0s) Loss: 0.1306(0.2144) Grad: 39647.6719  LR: 0.00001000  \n",
      "EVAL: [0/49] Elapsed 0m 2s (remain 1m 50s) Loss: 0.0984(0.0984) \n",
      "EVAL: [20/49] Elapsed 0m 28s (remain 0m 37s) Loss: 0.1105(0.1097) \n",
      "EVAL: [40/49] Elapsed 0m 51s (remain 0m 9s) Loss: 0.1450(0.1105) \n"
     ]
    },
    {
     "name": "stderr",
     "output_type": "stream",
     "text": [
      "Epoch 1 - avg_train_loss: 0.2144  avg_val_loss: 0.1104  time: 620s\n",
      "Epoch 1 - Score: 0.4712  Scores: [0.49749815146117143, 0.4651145263630815, 0.43772817841526324, 0.46792496602471934, 0.48619428952892696, 0.47248825897299024]\n",
      "Epoch 1 - Save Best Score: 0.4712 Model\n"
     ]
    },
    {
     "name": "stdout",
     "output_type": "stream",
     "text": [
      "EVAL: [48/49] Elapsed 0m 59s (remain 0m 0s) Loss: 0.0861(0.1104) \n",
      "Epoch: [2][0/293] Elapsed 0m 3s (remain 15m 31s) Loss: 0.0861(0.0861) Grad: 186238.7656  LR: 0.00000995  \n",
      "Epoch: [2][20/293] Elapsed 0m 41s (remain 9m 2s) Loss: 0.0657(0.1074) Grad: 173687.5000  LR: 0.00000888  \n",
      "Epoch: [2][40/293] Elapsed 1m 21s (remain 8m 19s) Loss: 0.1072(0.1042) Grad: 163229.1562  LR: 0.00000782  \n",
      "Epoch: [2][60/293] Elapsed 2m 6s (remain 7m 59s) Loss: 0.1053(0.1011) Grad: 197277.8281  LR: 0.00000679  \n",
      "Epoch: [2][80/293] Elapsed 2m 41s (remain 7m 1s) Loss: 0.1398(0.1039) Grad: 139283.6094  LR: 0.00000579  \n",
      "Epoch: [2][100/293] Elapsed 3m 21s (remain 6m 23s) Loss: 0.0789(0.1037) Grad: 229738.6562  LR: 0.00000485  \n",
      "Epoch: [2][120/293] Elapsed 3m 51s (remain 5m 29s) Loss: 0.0915(0.1031) Grad: 169514.1250  LR: 0.00000396  \n",
      "Epoch: [2][140/293] Elapsed 4m 34s (remain 4m 56s) Loss: 0.0819(0.1023) Grad: 147763.7969  LR: 0.00000314  \n",
      "Epoch: [2][160/293] Elapsed 5m 15s (remain 4m 18s) Loss: 0.1133(0.1023) Grad: 203419.8906  LR: 0.00000240  \n",
      "Epoch: [2][180/293] Elapsed 5m 57s (remain 3m 41s) Loss: 0.1073(0.1019) Grad: 151388.2188  LR: 0.00000175  \n",
      "Epoch: [2][200/293] Elapsed 6m 30s (remain 2m 58s) Loss: 0.1390(0.1019) Grad: inf  LR: 0.00000119  \n",
      "Epoch: [2][220/293] Elapsed 7m 8s (remain 2m 19s) Loss: 0.0670(0.1010) Grad: 81468.2500  LR: 0.00000074  \n",
      "Epoch: [2][240/293] Elapsed 7m 46s (remain 1m 40s) Loss: 0.0867(0.1016) Grad: 77601.3359  LR: 0.00000039  \n",
      "Epoch: [2][260/293] Elapsed 8m 23s (remain 1m 1s) Loss: 0.1050(0.1019) Grad: 97787.2031  LR: 0.00000015  \n",
      "Epoch: [2][280/293] Elapsed 9m 2s (remain 0m 23s) Loss: 0.0705(0.1013) Grad: 77720.4531  LR: 0.00000002  \n",
      "Epoch: [2][292/293] Elapsed 9m 25s (remain 0m 0s) Loss: 0.1112(0.1010) Grad: 72267.9062  LR: 0.00000000  \n",
      "EVAL: [0/49] Elapsed 0m 2s (remain 1m 37s) Loss: 0.0889(0.0889) \n",
      "EVAL: [20/49] Elapsed 0m 27s (remain 0m 36s) Loss: 0.1126(0.1039) \n",
      "EVAL: [40/49] Elapsed 0m 50s (remain 0m 9s) Loss: 0.1456(0.1051) \n"
     ]
    },
    {
     "name": "stderr",
     "output_type": "stream",
     "text": [
      "Epoch 2 - avg_train_loss: 0.1010  avg_val_loss: 0.1056  time: 624s\n",
      "Epoch 2 - Score: 0.4604  Scores: [0.4851928227944414, 0.45755644404444595, 0.41221971485714637, 0.4603608472763681, 0.4736212588692853, 0.4735535815192223]\n",
      "Epoch 2 - Save Best Score: 0.4604 Model\n"
     ]
    },
    {
     "name": "stdout",
     "output_type": "stream",
     "text": [
      "EVAL: [48/49] Elapsed 0m 58s (remain 0m 0s) Loss: 0.0813(0.1056) \n"
     ]
    },
    {
     "name": "stderr",
     "output_type": "stream",
     "text": [
      "========== fold: 3 result ==========\n",
      "Score: 0.4604  Scores: [0.4851928227944414, 0.45755644404444595, 0.41221971485714637, 0.4603608472763681, 0.4736212588692853, 0.4735535815192223]\n",
      "========== CV ==========\n",
      "Score: 0.4629  Scores: [0.49996912544244104, 0.4515330718968534, 0.4193498899172248, 0.46073638431955016, 0.48477918584793567, 0.46078207798876714]\n"
     ]
    },
    {
     "data": {
      "text/html": [
       "Waiting for W&B process to finish... <strong style=\"color:green\">(success).</strong>"
      ],
      "text/plain": [
       "<IPython.core.display.HTML object>"
      ]
     },
     "metadata": {},
     "output_type": "display_data"
    },
    {
     "data": {
      "application/vnd.jupyter.widget-view+json": {
       "model_id": "61ef08defd4942e395805bc549cd105c",
       "version_major": 2,
       "version_minor": 0
      },
      "text/plain": [
       "VBox(children=(Label(value='0.000 MB of 0.000 MB uploaded (0.000 MB deduped)\\r'), FloatProgress(value=1.0, max…"
      ]
     },
     "metadata": {},
     "output_type": "display_data"
    },
    {
     "data": {
      "text/html": [
       "<style>\n",
       "    table.wandb td:nth-child(1) { padding: 0 10px; text-align: left ; width: auto;} td:nth-child(2) {text-align: left ; width: 100%}\n",
       "    .wandb-row { display: flex; flex-direction: row; flex-wrap: wrap; justify-content: flex-start; width: 100% }\n",
       "    .wandb-col { display: flex; flex-direction: column; flex-basis: 100%; flex: 1; padding: 10px; }\n",
       "    </style>\n",
       "<div class=\"wandb-row\"><div class=\"wandb-col\"><h3>Run history:</h3><br/><table class=\"wandb\"><tr><td>[fold0] avg_train_loss</td><td>█▁</td></tr><tr><td>[fold0] avg_val_loss</td><td>█▁</td></tr><tr><td>[fold0] epoch</td><td>▁█</td></tr><tr><td>[fold0] loss</td><td>█▅▂▁▂▁▂▁▁▁▁▁▁▁▁▂▁▁▁▁▁▁▁▁▁▁▁▁▁▁▁▁▁▁▁▁▁▁▁▁</td></tr><tr><td>[fold0] lr</td><td>███████▇▇▇▇▇▆▆▆▆▅▅▅▅▄▄▄▄▃▃▃▃▂▂▂▂▂▁▁▁▁▁▁▁</td></tr><tr><td>[fold0] score</td><td>█▁</td></tr><tr><td>[fold1] avg_train_loss</td><td>█▁</td></tr><tr><td>[fold1] avg_val_loss</td><td>█▁</td></tr><tr><td>[fold1] epoch</td><td>▁█</td></tr><tr><td>[fold1] loss</td><td>█▄▂▂▂▁▁▁▁▂▁▁▁▁▁▁▁▁▁▁▁▁▁▁▁▁▁▁▂▁▁▁▁▁▁▁▁▁▁▁</td></tr><tr><td>[fold1] lr</td><td>███████▇▇▇▇▇▆▆▆▆▅▅▅▅▄▄▄▄▃▃▃▃▂▂▂▂▂▁▁▁▁▁▁▁</td></tr><tr><td>[fold1] score</td><td>█▁</td></tr><tr><td>[fold2] avg_train_loss</td><td>█▁</td></tr><tr><td>[fold2] avg_val_loss</td><td>█▁</td></tr><tr><td>[fold2] epoch</td><td>▁█</td></tr><tr><td>[fold2] loss</td><td>█▄▁▁▂▁▁▁▁▁▁▁▁▁▁▁▁▁▁▁▁▁▁▁▁▁▁▁▁▁▁▁▁▁▁▁▁▁▁▁</td></tr><tr><td>[fold2] lr</td><td>███████▇▇▇▇▇▆▆▆▆▅▅▅▅▄▄▄▄▃▃▃▃▂▂▂▂▂▁▁▁▁▁▁▁</td></tr><tr><td>[fold2] score</td><td>█▁</td></tr><tr><td>[fold3] avg_train_loss</td><td>█▁</td></tr><tr><td>[fold3] avg_val_loss</td><td>█▁</td></tr><tr><td>[fold3] epoch</td><td>▁█</td></tr><tr><td>[fold3] loss</td><td>█▃▁▁▁▁▁▁▁▁▁▁▁▁▁▂▁▁▁▁▁▁▁▁▁▁▁▁▁▁▁▁▁▁▁▁▁▁▁▁</td></tr><tr><td>[fold3] lr</td><td>███████▇▇▇▇▇▆▆▆▆▅▅▅▅▄▄▄▄▃▃▃▃▂▂▂▂▂▁▁▁▁▁▁▁</td></tr><tr><td>[fold3] score</td><td>█▁</td></tr></table><br/></div><div class=\"wandb-col\"><h3>Run summary:</h3><br/><table class=\"wandb\"><tr><td>[fold0] avg_train_loss</td><td>0.10094</td></tr><tr><td>[fold0] avg_val_loss</td><td>0.10646</td></tr><tr><td>[fold0] epoch</td><td>2</td></tr><tr><td>[fold0] loss</td><td>0.09306</td></tr><tr><td>[fold0] lr</td><td>0.0</td></tr><tr><td>[fold0] score</td><td>0.46163</td></tr><tr><td>[fold1] avg_train_loss</td><td>0.10434</td></tr><tr><td>[fold1] avg_val_loss</td><td>0.10276</td></tr><tr><td>[fold1] epoch</td><td>2</td></tr><tr><td>[fold1] loss</td><td>0.15935</td></tr><tr><td>[fold1] lr</td><td>0.0</td></tr><tr><td>[fold1] score</td><td>0.45387</td></tr><tr><td>[fold2] avg_train_loss</td><td>0.10271</td></tr><tr><td>[fold2] avg_val_loss</td><td>0.1123</td></tr><tr><td>[fold2] epoch</td><td>2</td></tr><tr><td>[fold2] loss</td><td>0.07933</td></tr><tr><td>[fold2] lr</td><td>0.0</td></tr><tr><td>[fold2] score</td><td>0.47493</td></tr><tr><td>[fold3] avg_train_loss</td><td>0.10102</td></tr><tr><td>[fold3] avg_val_loss</td><td>0.10564</td></tr><tr><td>[fold3] epoch</td><td>2</td></tr><tr><td>[fold3] loss</td><td>0.1112</td></tr><tr><td>[fold3] lr</td><td>0.0</td></tr><tr><td>[fold3] score</td><td>0.46042</td></tr></table><br/></div></div>"
      ],
      "text/plain": [
       "<IPython.core.display.HTML object>"
      ]
     },
     "metadata": {},
     "output_type": "display_data"
    },
    {
     "data": {
      "text/html": [
       "Synced <strong style=\"color:#cdcd00\">microsoft/deberta-v3-base</strong>: <a href=\"https://wandb.ai/team-donut/FB3-Public/runs/p4irit99\" target=\"_blank\">https://wandb.ai/team-donut/FB3-Public/runs/p4irit99</a><br/>Synced 6 W&B file(s), 0 media file(s), 0 artifact file(s) and 0 other file(s)"
      ],
      "text/plain": [
       "<IPython.core.display.HTML object>"
      ]
     },
     "metadata": {},
     "output_type": "display_data"
    },
    {
     "data": {
      "text/html": [
       "Find logs at: <code>./wandb/run-20240505_222920-p4irit99/logs</code>"
      ],
      "text/plain": [
       "<IPython.core.display.HTML object>"
      ]
     },
     "metadata": {},
     "output_type": "display_data"
    }
   ],
   "source": [
    "if __name__ == '__main__':\n",
    "    \n",
    "    def get_result(oof_df):\n",
    "        labels = oof_df[CFG.target_cols].values\n",
    "        preds = oof_df[[f\"pred_{c}\" for c in CFG.target_cols]].values\n",
    "        score, scores = get_score(labels, preds)\n",
    "        LOGGER.info(f'Score: {score:<.4f}  Scores: {scores}')\n",
    "    \n",
    "    if CFG.train:\n",
    "        oof_df = pd.DataFrame()\n",
    "        for fold in range(CFG.n_fold):\n",
    "            if fold in CFG.trn_fold:\n",
    "                _oof_df = train_loop(train, fold)\n",
    "                oof_df = pd.concat([oof_df, _oof_df])\n",
    "                LOGGER.info(f\"========== fold: {fold} result ==========\")\n",
    "                get_result(_oof_df)\n",
    "        oof_df = oof_df.reset_index(drop=True)\n",
    "        LOGGER.info(f\"========== CV ==========\")\n",
    "        get_result(oof_df)\n",
    "        oof_df.to_pickle(OUTPUT_DIR+'oof_df.pkl')\n",
    "        \n",
    "    if CFG.wandb:\n",
    "        wandb.finish()"
   ]
  },
  {
   "cell_type": "code",
   "execution_count": 17,
   "id": "d7d5d18c",
   "metadata": {
    "execution": {
     "iopub.execute_input": "2024-05-05T23:54:07.651801Z",
     "iopub.status.busy": "2024-05-05T23:54:07.650802Z",
     "iopub.status.idle": "2024-05-05T23:54:08.684883Z",
     "shell.execute_reply": "2024-05-05T23:54:08.683623Z"
    },
    "papermill": {
     "duration": 1.066873,
     "end_time": "2024-05-05T23:54:08.687479",
     "exception": false,
     "start_time": "2024-05-05T23:54:07.620606",
     "status": "completed"
    },
    "tags": []
   },
   "outputs": [
    {
     "name": "stdout",
     "output_type": "stream",
     "text": [
      "__notebook__.ipynb\r\n",
      "config.pth\r\n",
      "microsoft-deberta-v3-base_fold0_best.pth\r\n",
      "microsoft-deberta-v3-base_fold1_best.pth\r\n",
      "microsoft-deberta-v3-base_fold2_best.pth\r\n",
      "microsoft-deberta-v3-base_fold3_best.pth\r\n",
      "oof_df.pkl\r\n",
      "tokenizer\r\n",
      "train.log\r\n",
      "wandb\r\n"
     ]
    }
   ],
   "source": [
    "!ls /kaggle/working"
   ]
  },
  {
   "cell_type": "code",
   "execution_count": null,
   "id": "fcf6b06b",
   "metadata": {
    "papermill": {
     "duration": 0.027433,
     "end_time": "2024-05-05T23:54:08.743307",
     "exception": false,
     "start_time": "2024-05-05T23:54:08.715874",
     "status": "completed"
    },
    "tags": []
   },
   "outputs": [],
   "source": []
  }
 ],
 "metadata": {
  "kaggle": {
   "accelerator": "gpu",
   "dataSources": [
    {
     "databundleVersionId": 4196674,
     "sourceId": 38321,
     "sourceType": "competition"
    },
    {
     "sourceId": 104556683,
     "sourceType": "kernelVersion"
    }
   ],
   "dockerImageVersionId": 30236,
   "isGpuEnabled": true,
   "isInternetEnabled": true,
   "language": "python",
   "sourceType": "notebook"
  },
  "kernelspec": {
   "display_name": "Python 3",
   "language": "python",
   "name": "python3"
  },
  "language_info": {
   "codemirror_mode": {
    "name": "ipython",
    "version": 3
   },
   "file_extension": ".py",
   "mimetype": "text/x-python",
   "name": "python",
   "nbconvert_exporter": "python",
   "pygments_lexer": "ipython3",
   "version": "3.7.12"
  },
  "papermill": {
   "default_parameters": {},
   "duration": 5102.066267,
   "end_time": "2024-05-05T23:54:11.602813",
   "environment_variables": {},
   "exception": null,
   "input_path": "__notebook__.ipynb",
   "output_path": "__notebook__.ipynb",
   "parameters": {},
   "start_time": "2024-05-05T22:29:09.536546",
   "version": "2.3.4"
  },
  "widgets": {
   "application/vnd.jupyter.widget-state+json": {
    "state": {
     "008171529eb640ab9bb388f6586f4336": {
      "model_module": "@jupyter-widgets/controls",
      "model_module_version": "1.5.0",
      "model_name": "HTMLModel",
      "state": {
       "_dom_classes": [],
       "_model_module": "@jupyter-widgets/controls",
       "_model_module_version": "1.5.0",
       "_model_name": "HTMLModel",
       "_view_count": null,
       "_view_module": "@jupyter-widgets/controls",
       "_view_module_version": "1.5.0",
       "_view_name": "HTMLView",
       "description": "",
       "description_tooltip": null,
       "layout": "IPY_MODEL_6f57076b984d43828f7410ab1338783c",
       "placeholder": "​",
       "style": "IPY_MODEL_8cd6c61ad0e04c1693824e0247886146",
       "value": " 579/579 [00:00&lt;00:00, 19.2kB/s]"
      }
     },
     "07807a5c00e44a24871bfeb3a13ff066": {
      "model_module": "@jupyter-widgets/controls",
      "model_module_version": "1.5.0",
      "model_name": "HTMLModel",
      "state": {
       "_dom_classes": [],
       "_model_module": "@jupyter-widgets/controls",
       "_model_module_version": "1.5.0",
       "_model_name": "HTMLModel",
       "_view_count": null,
       "_view_module": "@jupyter-widgets/controls",
       "_view_module_version": "1.5.0",
       "_view_name": "HTMLView",
       "description": "",
       "description_tooltip": null,
       "layout": "IPY_MODEL_b88dcd396b47490aa4e613abb8abb771",
       "placeholder": "​",
       "style": "IPY_MODEL_67ed2ba9e4f04fa89792bfa8fb50c0b9",
       "value": " 2.35M/2.35M [00:00&lt;00:00, 13.2MB/s]"
      }
     },
     "09ee351a499c4357b8d9d1e78d33686f": {
      "model_module": "@jupyter-widgets/controls",
      "model_module_version": "1.5.0",
      "model_name": "ProgressStyleModel",
      "state": {
       "_model_module": "@jupyter-widgets/controls",
       "_model_module_version": "1.5.0",
       "_model_name": "ProgressStyleModel",
       "_view_count": null,
       "_view_module": "@jupyter-widgets/base",
       "_view_module_version": "1.2.0",
       "_view_name": "StyleView",
       "bar_color": null,
       "description_width": ""
      }
     },
     "10c14cd331ad4f9dadad4d1b59b44085": {
      "model_module": "@jupyter-widgets/controls",
      "model_module_version": "1.5.0",
      "model_name": "HTMLModel",
      "state": {
       "_dom_classes": [],
       "_model_module": "@jupyter-widgets/controls",
       "_model_module_version": "1.5.0",
       "_model_name": "HTMLModel",
       "_view_count": null,
       "_view_module": "@jupyter-widgets/controls",
       "_view_module_version": "1.5.0",
       "_view_name": "HTMLView",
       "description": "",
       "description_tooltip": null,
       "layout": "IPY_MODEL_40e0735a2df742a789bbac178cacc7ab",
       "placeholder": "​",
       "style": "IPY_MODEL_93b0c6783a40426692c34e8a8bcba699",
       "value": " 3128/3128 [00:05&lt;00:00, 567.70it/s]"
      }
     },
     "190d7cef58ee4d18b46d2d73738f7f6b": {
      "model_module": "@jupyter-widgets/base",
      "model_module_version": "1.2.0",
      "model_name": "LayoutModel",
      "state": {
       "_model_module": "@jupyter-widgets/base",
       "_model_module_version": "1.2.0",
       "_model_name": "LayoutModel",
       "_view_count": null,
       "_view_module": "@jupyter-widgets/base",
       "_view_module_version": "1.2.0",
       "_view_name": "LayoutView",
       "align_content": null,
       "align_items": null,
       "align_self": null,
       "border": null,
       "bottom": null,
       "display": null,
       "flex": null,
       "flex_flow": null,
       "grid_area": null,
       "grid_auto_columns": null,
       "grid_auto_flow": null,
       "grid_auto_rows": null,
       "grid_column": null,
       "grid_gap": null,
       "grid_row": null,
       "grid_template_areas": null,
       "grid_template_columns": null,
       "grid_template_rows": null,
       "height": null,
       "justify_content": null,
       "justify_items": null,
       "left": null,
       "margin": null,
       "max_height": null,
       "max_width": null,
       "min_height": null,
       "min_width": null,
       "object_fit": null,
       "object_position": null,
       "order": null,
       "overflow": null,
       "overflow_x": null,
       "overflow_y": null,
       "padding": null,
       "right": null,
       "top": null,
       "visibility": null,
       "width": null
      }
     },
     "1b4d7bce6649469fb395ae4585c116ef": {
      "model_module": "@jupyter-widgets/controls",
      "model_module_version": "1.5.0",
      "model_name": "DescriptionStyleModel",
      "state": {
       "_model_module": "@jupyter-widgets/controls",
       "_model_module_version": "1.5.0",
       "_model_name": "DescriptionStyleModel",
       "_view_count": null,
       "_view_module": "@jupyter-widgets/base",
       "_view_module_version": "1.2.0",
       "_view_name": "StyleView",
       "description_width": ""
      }
     },
     "21a47b78d43842ffa858627fac845649": {
      "model_module": "@jupyter-widgets/base",
      "model_module_version": "1.2.0",
      "model_name": "LayoutModel",
      "state": {
       "_model_module": "@jupyter-widgets/base",
       "_model_module_version": "1.2.0",
       "_model_name": "LayoutModel",
       "_view_count": null,
       "_view_module": "@jupyter-widgets/base",
       "_view_module_version": "1.2.0",
       "_view_name": "LayoutView",
       "align_content": null,
       "align_items": null,
       "align_self": null,
       "border": null,
       "bottom": null,
       "display": null,
       "flex": null,
       "flex_flow": null,
       "grid_area": null,
       "grid_auto_columns": null,
       "grid_auto_flow": null,
       "grid_auto_rows": null,
       "grid_column": null,
       "grid_gap": null,
       "grid_row": null,
       "grid_template_areas": null,
       "grid_template_columns": null,
       "grid_template_rows": null,
       "height": null,
       "justify_content": null,
       "justify_items": null,
       "left": null,
       "margin": null,
       "max_height": null,
       "max_width": null,
       "min_height": null,
       "min_width": null,
       "object_fit": null,
       "object_position": null,
       "order": null,
       "overflow": null,
       "overflow_x": null,
       "overflow_y": null,
       "padding": null,
       "right": null,
       "top": null,
       "visibility": null,
       "width": null
      }
     },
     "227d33f0848443e8a2e238da1f9700e1": {
      "model_module": "@jupyter-widgets/base",
      "model_module_version": "1.2.0",
      "model_name": "LayoutModel",
      "state": {
       "_model_module": "@jupyter-widgets/base",
       "_model_module_version": "1.2.0",
       "_model_name": "LayoutModel",
       "_view_count": null,
       "_view_module": "@jupyter-widgets/base",
       "_view_module_version": "1.2.0",
       "_view_name": "LayoutView",
       "align_content": null,
       "align_items": null,
       "align_self": null,
       "border": null,
       "bottom": null,
       "display": null,
       "flex": null,
       "flex_flow": null,
       "grid_area": null,
       "grid_auto_columns": null,
       "grid_auto_flow": null,
       "grid_auto_rows": null,
       "grid_column": null,
       "grid_gap": null,
       "grid_row": null,
       "grid_template_areas": null,
       "grid_template_columns": null,
       "grid_template_rows": null,
       "height": null,
       "justify_content": null,
       "justify_items": null,
       "left": null,
       "margin": null,
       "max_height": null,
       "max_width": null,
       "min_height": null,
       "min_width": null,
       "object_fit": null,
       "object_position": null,
       "order": null,
       "overflow": null,
       "overflow_x": null,
       "overflow_y": null,
       "padding": null,
       "right": null,
       "top": null,
       "visibility": null,
       "width": null
      }
     },
     "22ad9f1ed8c94c01b1d3eb23e6edea95": {
      "model_module": "@jupyter-widgets/base",
      "model_module_version": "1.2.0",
      "model_name": "LayoutModel",
      "state": {
       "_model_module": "@jupyter-widgets/base",
       "_model_module_version": "1.2.0",
       "_model_name": "LayoutModel",
       "_view_count": null,
       "_view_module": "@jupyter-widgets/base",
       "_view_module_version": "1.2.0",
       "_view_name": "LayoutView",
       "align_content": null,
       "align_items": null,
       "align_self": null,
       "border": null,
       "bottom": null,
       "display": null,
       "flex": null,
       "flex_flow": null,
       "grid_area": null,
       "grid_auto_columns": null,
       "grid_auto_flow": null,
       "grid_auto_rows": null,
       "grid_column": null,
       "grid_gap": null,
       "grid_row": null,
       "grid_template_areas": null,
       "grid_template_columns": null,
       "grid_template_rows": null,
       "height": null,
       "justify_content": null,
       "justify_items": null,
       "left": null,
       "margin": null,
       "max_height": null,
       "max_width": null,
       "min_height": null,
       "min_width": null,
       "object_fit": null,
       "object_position": null,
       "order": null,
       "overflow": null,
       "overflow_x": null,
       "overflow_y": null,
       "padding": null,
       "right": null,
       "top": null,
       "visibility": null,
       "width": null
      }
     },
     "231699be0b4e4d6c93658b54d32c0c31": {
      "model_module": "@jupyter-widgets/controls",
      "model_module_version": "1.5.0",
      "model_name": "HTMLModel",
      "state": {
       "_dom_classes": [],
       "_model_module": "@jupyter-widgets/controls",
       "_model_module_version": "1.5.0",
       "_model_name": "HTMLModel",
       "_view_count": null,
       "_view_module": "@jupyter-widgets/controls",
       "_view_module_version": "1.5.0",
       "_view_name": "HTMLView",
       "description": "",
       "description_tooltip": null,
       "layout": "IPY_MODEL_ede3d692332845abb7222a12ef7e66a0",
       "placeholder": "​",
       "style": "IPY_MODEL_8af52e30229c4699a9e4af6e459ba163",
       "value": "Downloading config.json: 100%"
      }
     },
     "37e31c51e6ed470fbecf31da0333d892": {
      "model_module": "@jupyter-widgets/controls",
      "model_module_version": "1.5.0",
      "model_name": "HBoxModel",
      "state": {
       "_dom_classes": [],
       "_model_module": "@jupyter-widgets/controls",
       "_model_module_version": "1.5.0",
       "_model_name": "HBoxModel",
       "_view_count": null,
       "_view_module": "@jupyter-widgets/controls",
       "_view_module_version": "1.5.0",
       "_view_name": "HBoxView",
       "box_style": "",
       "children": [
        "IPY_MODEL_6b116b8a04344b3da64d1596452bd852",
        "IPY_MODEL_c2b4679efca645fa96c05fdff8036c60",
        "IPY_MODEL_f785e14eca194e14820fd316b5eca873"
       ],
       "layout": "IPY_MODEL_c6cdcaf3f41c43419d70d6d39513e390"
      }
     },
     "40ae335b0bf346f5930e39be5e549988": {
      "model_module": "@jupyter-widgets/controls",
      "model_module_version": "1.5.0",
      "model_name": "FloatProgressModel",
      "state": {
       "_dom_classes": [],
       "_model_module": "@jupyter-widgets/controls",
       "_model_module_version": "1.5.0",
       "_model_name": "FloatProgressModel",
       "_view_count": null,
       "_view_module": "@jupyter-widgets/controls",
       "_view_module_version": "1.5.0",
       "_view_name": "ProgressView",
       "bar_style": "success",
       "description": "",
       "description_tooltip": null,
       "layout": "IPY_MODEL_53f227083ae5483e86af491537ecf250",
       "max": 579.0,
       "min": 0.0,
       "orientation": "horizontal",
       "style": "IPY_MODEL_e22ec50ae46e41a58056e952cab87e68",
       "value": 579.0
      }
     },
     "40e0735a2df742a789bbac178cacc7ab": {
      "model_module": "@jupyter-widgets/base",
      "model_module_version": "1.2.0",
      "model_name": "LayoutModel",
      "state": {
       "_model_module": "@jupyter-widgets/base",
       "_model_module_version": "1.2.0",
       "_model_name": "LayoutModel",
       "_view_count": null,
       "_view_module": "@jupyter-widgets/base",
       "_view_module_version": "1.2.0",
       "_view_name": "LayoutView",
       "align_content": null,
       "align_items": null,
       "align_self": null,
       "border": null,
       "bottom": null,
       "display": null,
       "flex": null,
       "flex_flow": null,
       "grid_area": null,
       "grid_auto_columns": null,
       "grid_auto_flow": null,
       "grid_auto_rows": null,
       "grid_column": null,
       "grid_gap": null,
       "grid_row": null,
       "grid_template_areas": null,
       "grid_template_columns": null,
       "grid_template_rows": null,
       "height": null,
       "justify_content": null,
       "justify_items": null,
       "left": null,
       "margin": null,
       "max_height": null,
       "max_width": null,
       "min_height": null,
       "min_width": null,
       "object_fit": null,
       "object_position": null,
       "order": null,
       "overflow": null,
       "overflow_x": null,
       "overflow_y": null,
       "padding": null,
       "right": null,
       "top": null,
       "visibility": null,
       "width": null
      }
     },
     "513ff031f9e34f86b11a2970fdd0cc22": {
      "model_module": "@jupyter-widgets/base",
      "model_module_version": "1.2.0",
      "model_name": "LayoutModel",
      "state": {
       "_model_module": "@jupyter-widgets/base",
       "_model_module_version": "1.2.0",
       "_model_name": "LayoutModel",
       "_view_count": null,
       "_view_module": "@jupyter-widgets/base",
       "_view_module_version": "1.2.0",
       "_view_name": "LayoutView",
       "align_content": null,
       "align_items": null,
       "align_self": null,
       "border": null,
       "bottom": null,
       "display": null,
       "flex": null,
       "flex_flow": null,
       "grid_area": null,
       "grid_auto_columns": null,
       "grid_auto_flow": null,
       "grid_auto_rows": null,
       "grid_column": null,
       "grid_gap": null,
       "grid_row": null,
       "grid_template_areas": null,
       "grid_template_columns": null,
       "grid_template_rows": null,
       "height": null,
       "justify_content": null,
       "justify_items": null,
       "left": null,
       "margin": null,
       "max_height": null,
       "max_width": null,
       "min_height": null,
       "min_width": null,
       "object_fit": null,
       "object_position": null,
       "order": null,
       "overflow": null,
       "overflow_x": null,
       "overflow_y": null,
       "padding": null,
       "right": null,
       "top": null,
       "visibility": null,
       "width": null
      }
     },
     "53f227083ae5483e86af491537ecf250": {
      "model_module": "@jupyter-widgets/base",
      "model_module_version": "1.2.0",
      "model_name": "LayoutModel",
      "state": {
       "_model_module": "@jupyter-widgets/base",
       "_model_module_version": "1.2.0",
       "_model_name": "LayoutModel",
       "_view_count": null,
       "_view_module": "@jupyter-widgets/base",
       "_view_module_version": "1.2.0",
       "_view_name": "LayoutView",
       "align_content": null,
       "align_items": null,
       "align_self": null,
       "border": null,
       "bottom": null,
       "display": null,
       "flex": null,
       "flex_flow": null,
       "grid_area": null,
       "grid_auto_columns": null,
       "grid_auto_flow": null,
       "grid_auto_rows": null,
       "grid_column": null,
       "grid_gap": null,
       "grid_row": null,
       "grid_template_areas": null,
       "grid_template_columns": null,
       "grid_template_rows": null,
       "height": null,
       "justify_content": null,
       "justify_items": null,
       "left": null,
       "margin": null,
       "max_height": null,
       "max_width": null,
       "min_height": null,
       "min_width": null,
       "object_fit": null,
       "object_position": null,
       "order": null,
       "overflow": null,
       "overflow_x": null,
       "overflow_y": null,
       "padding": null,
       "right": null,
       "top": null,
       "visibility": null,
       "width": null
      }
     },
     "55157be8ffd44a2b948bb469607a4308": {
      "model_module": "@jupyter-widgets/controls",
      "model_module_version": "1.5.0",
      "model_name": "DescriptionStyleModel",
      "state": {
       "_model_module": "@jupyter-widgets/controls",
       "_model_module_version": "1.5.0",
       "_model_name": "DescriptionStyleModel",
       "_view_count": null,
       "_view_module": "@jupyter-widgets/base",
       "_view_module_version": "1.2.0",
       "_view_name": "StyleView",
       "description_width": ""
      }
     },
     "602086dac3af4c48ba29c3b0b7fed886": {
      "model_module": "@jupyter-widgets/controls",
      "model_module_version": "1.5.0",
      "model_name": "ProgressStyleModel",
      "state": {
       "_model_module": "@jupyter-widgets/controls",
       "_model_module_version": "1.5.0",
       "_model_name": "ProgressStyleModel",
       "_view_count": null,
       "_view_module": "@jupyter-widgets/base",
       "_view_module_version": "1.2.0",
       "_view_name": "StyleView",
       "bar_color": null,
       "description_width": ""
      }
     },
     "6160cb41e46e404c930618a6e01c8b5d": {
      "model_module": "@jupyter-widgets/base",
      "model_module_version": "1.2.0",
      "model_name": "LayoutModel",
      "state": {
       "_model_module": "@jupyter-widgets/base",
       "_model_module_version": "1.2.0",
       "_model_name": "LayoutModel",
       "_view_count": null,
       "_view_module": "@jupyter-widgets/base",
       "_view_module_version": "1.2.0",
       "_view_name": "LayoutView",
       "align_content": null,
       "align_items": null,
       "align_self": null,
       "border": null,
       "bottom": null,
       "display": null,
       "flex": null,
       "flex_flow": null,
       "grid_area": null,
       "grid_auto_columns": null,
       "grid_auto_flow": null,
       "grid_auto_rows": null,
       "grid_column": null,
       "grid_gap": null,
       "grid_row": null,
       "grid_template_areas": null,
       "grid_template_columns": null,
       "grid_template_rows": null,
       "height": null,
       "justify_content": null,
       "justify_items": null,
       "left": null,
       "margin": null,
       "max_height": null,
       "max_width": null,
       "min_height": null,
       "min_width": null,
       "object_fit": null,
       "object_position": null,
       "order": null,
       "overflow": null,
       "overflow_x": null,
       "overflow_y": null,
       "padding": null,
       "right": null,
       "top": null,
       "visibility": null,
       "width": null
      }
     },
     "61ef08defd4942e395805bc549cd105c": {
      "model_module": "@jupyter-widgets/controls",
      "model_module_version": "1.5.0",
      "model_name": "VBoxModel",
      "state": {
       "_dom_classes": [],
       "_model_module": "@jupyter-widgets/controls",
       "_model_module_version": "1.5.0",
       "_model_name": "VBoxModel",
       "_view_count": null,
       "_view_module": "@jupyter-widgets/controls",
       "_view_module_version": "1.5.0",
       "_view_name": "VBoxView",
       "box_style": "",
       "children": [
        "IPY_MODEL_a5b89f54a75f4751b419580eaf6e3203",
        "IPY_MODEL_ecba59d1ddf74ccf9c18cfd71dc10368"
       ],
       "layout": "IPY_MODEL_227d33f0848443e8a2e238da1f9700e1"
      }
     },
     "656498345afb4c9f900c83ce4a17ac4a": {
      "model_module": "@jupyter-widgets/controls",
      "model_module_version": "1.5.0",
      "model_name": "HTMLModel",
      "state": {
       "_dom_classes": [],
       "_model_module": "@jupyter-widgets/controls",
       "_model_module_version": "1.5.0",
       "_model_name": "HTMLModel",
       "_view_count": null,
       "_view_module": "@jupyter-widgets/controls",
       "_view_module_version": "1.5.0",
       "_view_name": "HTMLView",
       "description": "",
       "description_tooltip": null,
       "layout": "IPY_MODEL_af35314f21da4693afdfe54bd8849e1d",
       "placeholder": "​",
       "style": "IPY_MODEL_746607c733df4f7e8224aef1101c38cc",
       "value": " 52.0/52.0 [00:00&lt;00:00, 1.85kB/s]"
      }
     },
     "67ed2ba9e4f04fa89792bfa8fb50c0b9": {
      "model_module": "@jupyter-widgets/controls",
      "model_module_version": "1.5.0",
      "model_name": "DescriptionStyleModel",
      "state": {
       "_model_module": "@jupyter-widgets/controls",
       "_model_module_version": "1.5.0",
       "_model_name": "DescriptionStyleModel",
       "_view_count": null,
       "_view_module": "@jupyter-widgets/base",
       "_view_module_version": "1.2.0",
       "_view_name": "StyleView",
       "description_width": ""
      }
     },
     "6b116b8a04344b3da64d1596452bd852": {
      "model_module": "@jupyter-widgets/controls",
      "model_module_version": "1.5.0",
      "model_name": "HTMLModel",
      "state": {
       "_dom_classes": [],
       "_model_module": "@jupyter-widgets/controls",
       "_model_module_version": "1.5.0",
       "_model_name": "HTMLModel",
       "_view_count": null,
       "_view_module": "@jupyter-widgets/controls",
       "_view_module_version": "1.5.0",
       "_view_name": "HTMLView",
       "description": "",
       "description_tooltip": null,
       "layout": "IPY_MODEL_c733bc41d97545bb831a3936dfcca1c8",
       "placeholder": "​",
       "style": "IPY_MODEL_d8a1846f12604c2fb810db096de3d6cd",
       "value": "Downloading pytorch_model.bin: 100%"
      }
     },
     "6f57076b984d43828f7410ab1338783c": {
      "model_module": "@jupyter-widgets/base",
      "model_module_version": "1.2.0",
      "model_name": "LayoutModel",
      "state": {
       "_model_module": "@jupyter-widgets/base",
       "_model_module_version": "1.2.0",
       "_model_name": "LayoutModel",
       "_view_count": null,
       "_view_module": "@jupyter-widgets/base",
       "_view_module_version": "1.2.0",
       "_view_name": "LayoutView",
       "align_content": null,
       "align_items": null,
       "align_self": null,
       "border": null,
       "bottom": null,
       "display": null,
       "flex": null,
       "flex_flow": null,
       "grid_area": null,
       "grid_auto_columns": null,
       "grid_auto_flow": null,
       "grid_auto_rows": null,
       "grid_column": null,
       "grid_gap": null,
       "grid_row": null,
       "grid_template_areas": null,
       "grid_template_columns": null,
       "grid_template_rows": null,
       "height": null,
       "justify_content": null,
       "justify_items": null,
       "left": null,
       "margin": null,
       "max_height": null,
       "max_width": null,
       "min_height": null,
       "min_width": null,
       "object_fit": null,
       "object_position": null,
       "order": null,
       "overflow": null,
       "overflow_x": null,
       "overflow_y": null,
       "padding": null,
       "right": null,
       "top": null,
       "visibility": null,
       "width": null
      }
     },
     "746607c733df4f7e8224aef1101c38cc": {
      "model_module": "@jupyter-widgets/controls",
      "model_module_version": "1.5.0",
      "model_name": "DescriptionStyleModel",
      "state": {
       "_model_module": "@jupyter-widgets/controls",
       "_model_module_version": "1.5.0",
       "_model_name": "DescriptionStyleModel",
       "_view_count": null,
       "_view_module": "@jupyter-widgets/base",
       "_view_module_version": "1.2.0",
       "_view_name": "StyleView",
       "description_width": ""
      }
     },
     "762a97511dff476fababdc0d22097604": {
      "model_module": "@jupyter-widgets/controls",
      "model_module_version": "1.5.0",
      "model_name": "HBoxModel",
      "state": {
       "_dom_classes": [],
       "_model_module": "@jupyter-widgets/controls",
       "_model_module_version": "1.5.0",
       "_model_name": "HBoxModel",
       "_view_count": null,
       "_view_module": "@jupyter-widgets/controls",
       "_view_module_version": "1.5.0",
       "_view_name": "HBoxView",
       "box_style": "",
       "children": [
        "IPY_MODEL_231699be0b4e4d6c93658b54d32c0c31",
        "IPY_MODEL_40ae335b0bf346f5930e39be5e549988",
        "IPY_MODEL_008171529eb640ab9bb388f6586f4336"
       ],
       "layout": "IPY_MODEL_896930eeabb0470ab933fa4c936af8a2"
      }
     },
     "769b99e805d04062bef518d5dfb14fd7": {
      "model_module": "@jupyter-widgets/controls",
      "model_module_version": "1.5.0",
      "model_name": "DescriptionStyleModel",
      "state": {
       "_model_module": "@jupyter-widgets/controls",
       "_model_module_version": "1.5.0",
       "_model_name": "DescriptionStyleModel",
       "_view_count": null,
       "_view_module": "@jupyter-widgets/base",
       "_view_module_version": "1.2.0",
       "_view_name": "StyleView",
       "description_width": ""
      }
     },
     "7e02bc22a87a4bd2bc9291d7dedac260": {
      "model_module": "@jupyter-widgets/controls",
      "model_module_version": "1.5.0",
      "model_name": "FloatProgressModel",
      "state": {
       "_dom_classes": [],
       "_model_module": "@jupyter-widgets/controls",
       "_model_module_version": "1.5.0",
       "_model_name": "FloatProgressModel",
       "_view_count": null,
       "_view_module": "@jupyter-widgets/controls",
       "_view_module_version": "1.5.0",
       "_view_name": "ProgressView",
       "bar_style": "success",
       "description": "",
       "description_tooltip": null,
       "layout": "IPY_MODEL_b8ec06f32c3a4f51a67d8122ccb7551d",
       "max": 2464616.0,
       "min": 0.0,
       "orientation": "horizontal",
       "style": "IPY_MODEL_9b0cb2454dc94c29ba7baca5efa2846a",
       "value": 2464616.0
      }
     },
     "7e1df7addee84d5b8d2c328bc1a7f1fb": {
      "model_module": "@jupyter-widgets/controls",
      "model_module_version": "1.5.0",
      "model_name": "LabelModel",
      "state": {
       "_dom_classes": [],
       "_model_module": "@jupyter-widgets/controls",
       "_model_module_version": "1.5.0",
       "_model_name": "LabelModel",
       "_view_count": null,
       "_view_module": "@jupyter-widgets/controls",
       "_view_module_version": "1.5.0",
       "_view_name": "LabelView",
       "description": "",
       "description_tooltip": null,
       "layout": "IPY_MODEL_22ad9f1ed8c94c01b1d3eb23e6edea95",
       "placeholder": "​",
       "style": "IPY_MODEL_55157be8ffd44a2b948bb469607a4308",
       "value": ""
      }
     },
     "80e91a9ed6cd4c97bfa86cf99813bfc0": {
      "model_module": "@jupyter-widgets/controls",
      "model_module_version": "1.5.0",
      "model_name": "FloatProgressModel",
      "state": {
       "_dom_classes": [],
       "_model_module": "@jupyter-widgets/controls",
       "_model_module_version": "1.5.0",
       "_model_name": "FloatProgressModel",
       "_view_count": null,
       "_view_module": "@jupyter-widgets/controls",
       "_view_module_version": "1.5.0",
       "_view_name": "ProgressView",
       "bar_style": "success",
       "description": "",
       "description_tooltip": null,
       "layout": "IPY_MODEL_b0f49580d74e4a639f4142915a80932e",
       "max": 3128.0,
       "min": 0.0,
       "orientation": "horizontal",
       "style": "IPY_MODEL_e0c6a0fc244c4e74b60a12d73ade3b18",
       "value": 3128.0
      }
     },
     "8106533a0a6944c4b725f99307d70854": {
      "model_module": "@jupyter-widgets/base",
      "model_module_version": "1.2.0",
      "model_name": "LayoutModel",
      "state": {
       "_model_module": "@jupyter-widgets/base",
       "_model_module_version": "1.2.0",
       "_model_name": "LayoutModel",
       "_view_count": null,
       "_view_module": "@jupyter-widgets/base",
       "_view_module_version": "1.2.0",
       "_view_name": "LayoutView",
       "align_content": null,
       "align_items": null,
       "align_self": null,
       "border": null,
       "bottom": null,
       "display": null,
       "flex": null,
       "flex_flow": null,
       "grid_area": null,
       "grid_auto_columns": null,
       "grid_auto_flow": null,
       "grid_auto_rows": null,
       "grid_column": null,
       "grid_gap": null,
       "grid_row": null,
       "grid_template_areas": null,
       "grid_template_columns": null,
       "grid_template_rows": null,
       "height": null,
       "justify_content": null,
       "justify_items": null,
       "left": null,
       "margin": null,
       "max_height": null,
       "max_width": null,
       "min_height": null,
       "min_width": null,
       "object_fit": null,
       "object_position": null,
       "order": null,
       "overflow": null,
       "overflow_x": null,
       "overflow_y": null,
       "padding": null,
       "right": null,
       "top": null,
       "visibility": null,
       "width": null
      }
     },
     "87d8a016c3d644d28c4f42bda4db3b70": {
      "model_module": "@jupyter-widgets/controls",
      "model_module_version": "1.5.0",
      "model_name": "FloatProgressModel",
      "state": {
       "_dom_classes": [],
       "_model_module": "@jupyter-widgets/controls",
       "_model_module_version": "1.5.0",
       "_model_name": "FloatProgressModel",
       "_view_count": null,
       "_view_module": "@jupyter-widgets/controls",
       "_view_module_version": "1.5.0",
       "_view_name": "ProgressView",
       "bar_style": "success",
       "description": "",
       "description_tooltip": null,
       "layout": "IPY_MODEL_21a47b78d43842ffa858627fac845649",
       "max": 52.0,
       "min": 0.0,
       "orientation": "horizontal",
       "style": "IPY_MODEL_602086dac3af4c48ba29c3b0b7fed886",
       "value": 52.0
      }
     },
     "896930eeabb0470ab933fa4c936af8a2": {
      "model_module": "@jupyter-widgets/base",
      "model_module_version": "1.2.0",
      "model_name": "LayoutModel",
      "state": {
       "_model_module": "@jupyter-widgets/base",
       "_model_module_version": "1.2.0",
       "_model_name": "LayoutModel",
       "_view_count": null,
       "_view_module": "@jupyter-widgets/base",
       "_view_module_version": "1.2.0",
       "_view_name": "LayoutView",
       "align_content": null,
       "align_items": null,
       "align_self": null,
       "border": null,
       "bottom": null,
       "display": null,
       "flex": null,
       "flex_flow": null,
       "grid_area": null,
       "grid_auto_columns": null,
       "grid_auto_flow": null,
       "grid_auto_rows": null,
       "grid_column": null,
       "grid_gap": null,
       "grid_row": null,
       "grid_template_areas": null,
       "grid_template_columns": null,
       "grid_template_rows": null,
       "height": null,
       "justify_content": null,
       "justify_items": null,
       "left": null,
       "margin": null,
       "max_height": null,
       "max_width": null,
       "min_height": null,
       "min_width": null,
       "object_fit": null,
       "object_position": null,
       "order": null,
       "overflow": null,
       "overflow_x": null,
       "overflow_y": null,
       "padding": null,
       "right": null,
       "top": null,
       "visibility": null,
       "width": null
      }
     },
     "8af52e30229c4699a9e4af6e459ba163": {
      "model_module": "@jupyter-widgets/controls",
      "model_module_version": "1.5.0",
      "model_name": "DescriptionStyleModel",
      "state": {
       "_model_module": "@jupyter-widgets/controls",
       "_model_module_version": "1.5.0",
       "_model_name": "DescriptionStyleModel",
       "_view_count": null,
       "_view_module": "@jupyter-widgets/base",
       "_view_module_version": "1.2.0",
       "_view_name": "StyleView",
       "description_width": ""
      }
     },
     "8cd6c61ad0e04c1693824e0247886146": {
      "model_module": "@jupyter-widgets/controls",
      "model_module_version": "1.5.0",
      "model_name": "DescriptionStyleModel",
      "state": {
       "_model_module": "@jupyter-widgets/controls",
       "_model_module_version": "1.5.0",
       "_model_name": "DescriptionStyleModel",
       "_view_count": null,
       "_view_module": "@jupyter-widgets/base",
       "_view_module_version": "1.2.0",
       "_view_name": "StyleView",
       "description_width": ""
      }
     },
     "93b0c6783a40426692c34e8a8bcba699": {
      "model_module": "@jupyter-widgets/controls",
      "model_module_version": "1.5.0",
      "model_name": "DescriptionStyleModel",
      "state": {
       "_model_module": "@jupyter-widgets/controls",
       "_model_module_version": "1.5.0",
       "_model_name": "DescriptionStyleModel",
       "_view_count": null,
       "_view_module": "@jupyter-widgets/base",
       "_view_module_version": "1.2.0",
       "_view_name": "StyleView",
       "description_width": ""
      }
     },
     "9b0cb2454dc94c29ba7baca5efa2846a": {
      "model_module": "@jupyter-widgets/controls",
      "model_module_version": "1.5.0",
      "model_name": "ProgressStyleModel",
      "state": {
       "_model_module": "@jupyter-widgets/controls",
       "_model_module_version": "1.5.0",
       "_model_name": "ProgressStyleModel",
       "_view_count": null,
       "_view_module": "@jupyter-widgets/base",
       "_view_module_version": "1.2.0",
       "_view_name": "StyleView",
       "bar_color": null,
       "description_width": ""
      }
     },
     "a5b89f54a75f4751b419580eaf6e3203": {
      "model_module": "@jupyter-widgets/controls",
      "model_module_version": "1.5.0",
      "model_name": "LabelModel",
      "state": {
       "_dom_classes": [],
       "_model_module": "@jupyter-widgets/controls",
       "_model_module_version": "1.5.0",
       "_model_name": "LabelModel",
       "_view_count": null,
       "_view_module": "@jupyter-widgets/controls",
       "_view_module_version": "1.5.0",
       "_view_name": "LabelView",
       "description": "",
       "description_tooltip": null,
       "layout": "IPY_MODEL_f86a71ee3ed140038430dbad63854597",
       "placeholder": "​",
       "style": "IPY_MODEL_e3631aa70be84e6f98c6055c90336c57",
       "value": "0.072 MB of 0.072 MB uploaded (0.000 MB deduped)\r"
      }
     },
     "a657be9dfd60442d8bd22de0bcad1d02": {
      "model_module": "@jupyter-widgets/controls",
      "model_module_version": "1.5.0",
      "model_name": "HTMLModel",
      "state": {
       "_dom_classes": [],
       "_model_module": "@jupyter-widgets/controls",
       "_model_module_version": "1.5.0",
       "_model_name": "HTMLModel",
       "_view_count": null,
       "_view_module": "@jupyter-widgets/controls",
       "_view_module_version": "1.5.0",
       "_view_name": "HTMLView",
       "description": "",
       "description_tooltip": null,
       "layout": "IPY_MODEL_e5dc0fab4cc54982ba194facd7040235",
       "placeholder": "​",
       "style": "IPY_MODEL_769b99e805d04062bef518d5dfb14fd7",
       "value": "100%"
      }
     },
     "ad59b12dd37a44ba84f651c877e7b571": {
      "model_module": "@jupyter-widgets/controls",
      "model_module_version": "1.5.0",
      "model_name": "DescriptionStyleModel",
      "state": {
       "_model_module": "@jupyter-widgets/controls",
       "_model_module_version": "1.5.0",
       "_model_name": "DescriptionStyleModel",
       "_view_count": null,
       "_view_module": "@jupyter-widgets/base",
       "_view_module_version": "1.2.0",
       "_view_name": "StyleView",
       "description_width": ""
      }
     },
     "af35314f21da4693afdfe54bd8849e1d": {
      "model_module": "@jupyter-widgets/base",
      "model_module_version": "1.2.0",
      "model_name": "LayoutModel",
      "state": {
       "_model_module": "@jupyter-widgets/base",
       "_model_module_version": "1.2.0",
       "_model_name": "LayoutModel",
       "_view_count": null,
       "_view_module": "@jupyter-widgets/base",
       "_view_module_version": "1.2.0",
       "_view_name": "LayoutView",
       "align_content": null,
       "align_items": null,
       "align_self": null,
       "border": null,
       "bottom": null,
       "display": null,
       "flex": null,
       "flex_flow": null,
       "grid_area": null,
       "grid_auto_columns": null,
       "grid_auto_flow": null,
       "grid_auto_rows": null,
       "grid_column": null,
       "grid_gap": null,
       "grid_row": null,
       "grid_template_areas": null,
       "grid_template_columns": null,
       "grid_template_rows": null,
       "height": null,
       "justify_content": null,
       "justify_items": null,
       "left": null,
       "margin": null,
       "max_height": null,
       "max_width": null,
       "min_height": null,
       "min_width": null,
       "object_fit": null,
       "object_position": null,
       "order": null,
       "overflow": null,
       "overflow_x": null,
       "overflow_y": null,
       "padding": null,
       "right": null,
       "top": null,
       "visibility": null,
       "width": null
      }
     },
     "b0f49580d74e4a639f4142915a80932e": {
      "model_module": "@jupyter-widgets/base",
      "model_module_version": "1.2.0",
      "model_name": "LayoutModel",
      "state": {
       "_model_module": "@jupyter-widgets/base",
       "_model_module_version": "1.2.0",
       "_model_name": "LayoutModel",
       "_view_count": null,
       "_view_module": "@jupyter-widgets/base",
       "_view_module_version": "1.2.0",
       "_view_name": "LayoutView",
       "align_content": null,
       "align_items": null,
       "align_self": null,
       "border": null,
       "bottom": null,
       "display": null,
       "flex": null,
       "flex_flow": null,
       "grid_area": null,
       "grid_auto_columns": null,
       "grid_auto_flow": null,
       "grid_auto_rows": null,
       "grid_column": null,
       "grid_gap": null,
       "grid_row": null,
       "grid_template_areas": null,
       "grid_template_columns": null,
       "grid_template_rows": null,
       "height": null,
       "justify_content": null,
       "justify_items": null,
       "left": null,
       "margin": null,
       "max_height": null,
       "max_width": null,
       "min_height": null,
       "min_width": null,
       "object_fit": null,
       "object_position": null,
       "order": null,
       "overflow": null,
       "overflow_x": null,
       "overflow_y": null,
       "padding": null,
       "right": null,
       "top": null,
       "visibility": null,
       "width": null
      }
     },
     "b4dfe1e3e60d4d0bae91ed5176e0376c": {
      "model_module": "@jupyter-widgets/controls",
      "model_module_version": "1.5.0",
      "model_name": "HTMLModel",
      "state": {
       "_dom_classes": [],
       "_model_module": "@jupyter-widgets/controls",
       "_model_module_version": "1.5.0",
       "_model_name": "HTMLModel",
       "_view_count": null,
       "_view_module": "@jupyter-widgets/controls",
       "_view_module_version": "1.5.0",
       "_view_name": "HTMLView",
       "description": "",
       "description_tooltip": null,
       "layout": "IPY_MODEL_c9f9cb2d0c124946821a1b6a51fe0525",
       "placeholder": "​",
       "style": "IPY_MODEL_1b4d7bce6649469fb395ae4585c116ef",
       "value": "Downloading tokenizer_config.json: 100%"
      }
     },
     "b87018123e084861b8290911b58f5e6b": {
      "model_module": "@jupyter-widgets/controls",
      "model_module_version": "1.5.0",
      "model_name": "DescriptionStyleModel",
      "state": {
       "_model_module": "@jupyter-widgets/controls",
       "_model_module_version": "1.5.0",
       "_model_name": "DescriptionStyleModel",
       "_view_count": null,
       "_view_module": "@jupyter-widgets/base",
       "_view_module_version": "1.2.0",
       "_view_name": "StyleView",
       "description_width": ""
      }
     },
     "b88dcd396b47490aa4e613abb8abb771": {
      "model_module": "@jupyter-widgets/base",
      "model_module_version": "1.2.0",
      "model_name": "LayoutModel",
      "state": {
       "_model_module": "@jupyter-widgets/base",
       "_model_module_version": "1.2.0",
       "_model_name": "LayoutModel",
       "_view_count": null,
       "_view_module": "@jupyter-widgets/base",
       "_view_module_version": "1.2.0",
       "_view_name": "LayoutView",
       "align_content": null,
       "align_items": null,
       "align_self": null,
       "border": null,
       "bottom": null,
       "display": null,
       "flex": null,
       "flex_flow": null,
       "grid_area": null,
       "grid_auto_columns": null,
       "grid_auto_flow": null,
       "grid_auto_rows": null,
       "grid_column": null,
       "grid_gap": null,
       "grid_row": null,
       "grid_template_areas": null,
       "grid_template_columns": null,
       "grid_template_rows": null,
       "height": null,
       "justify_content": null,
       "justify_items": null,
       "left": null,
       "margin": null,
       "max_height": null,
       "max_width": null,
       "min_height": null,
       "min_width": null,
       "object_fit": null,
       "object_position": null,
       "order": null,
       "overflow": null,
       "overflow_x": null,
       "overflow_y": null,
       "padding": null,
       "right": null,
       "top": null,
       "visibility": null,
       "width": null
      }
     },
     "b8ec06f32c3a4f51a67d8122ccb7551d": {
      "model_module": "@jupyter-widgets/base",
      "model_module_version": "1.2.0",
      "model_name": "LayoutModel",
      "state": {
       "_model_module": "@jupyter-widgets/base",
       "_model_module_version": "1.2.0",
       "_model_name": "LayoutModel",
       "_view_count": null,
       "_view_module": "@jupyter-widgets/base",
       "_view_module_version": "1.2.0",
       "_view_name": "LayoutView",
       "align_content": null,
       "align_items": null,
       "align_self": null,
       "border": null,
       "bottom": null,
       "display": null,
       "flex": null,
       "flex_flow": null,
       "grid_area": null,
       "grid_auto_columns": null,
       "grid_auto_flow": null,
       "grid_auto_rows": null,
       "grid_column": null,
       "grid_gap": null,
       "grid_row": null,
       "grid_template_areas": null,
       "grid_template_columns": null,
       "grid_template_rows": null,
       "height": null,
       "justify_content": null,
       "justify_items": null,
       "left": null,
       "margin": null,
       "max_height": null,
       "max_width": null,
       "min_height": null,
       "min_width": null,
       "object_fit": null,
       "object_position": null,
       "order": null,
       "overflow": null,
       "overflow_x": null,
       "overflow_y": null,
       "padding": null,
       "right": null,
       "top": null,
       "visibility": null,
       "width": null
      }
     },
     "b8feace243074f119b7a175205fc6fdb": {
      "model_module": "@jupyter-widgets/base",
      "model_module_version": "1.2.0",
      "model_name": "LayoutModel",
      "state": {
       "_model_module": "@jupyter-widgets/base",
       "_model_module_version": "1.2.0",
       "_model_name": "LayoutModel",
       "_view_count": null,
       "_view_module": "@jupyter-widgets/base",
       "_view_module_version": "1.2.0",
       "_view_name": "LayoutView",
       "align_content": null,
       "align_items": null,
       "align_self": null,
       "border": null,
       "bottom": null,
       "display": null,
       "flex": null,
       "flex_flow": null,
       "grid_area": null,
       "grid_auto_columns": null,
       "grid_auto_flow": null,
       "grid_auto_rows": null,
       "grid_column": null,
       "grid_gap": null,
       "grid_row": null,
       "grid_template_areas": null,
       "grid_template_columns": null,
       "grid_template_rows": null,
       "height": null,
       "justify_content": null,
       "justify_items": null,
       "left": null,
       "margin": null,
       "max_height": null,
       "max_width": null,
       "min_height": null,
       "min_width": null,
       "object_fit": null,
       "object_position": null,
       "order": null,
       "overflow": null,
       "overflow_x": null,
       "overflow_y": null,
       "padding": null,
       "right": null,
       "top": null,
       "visibility": null,
       "width": null
      }
     },
     "bbcdb1c449a2455cbf06b04526795ef4": {
      "model_module": "@jupyter-widgets/base",
      "model_module_version": "1.2.0",
      "model_name": "LayoutModel",
      "state": {
       "_model_module": "@jupyter-widgets/base",
       "_model_module_version": "1.2.0",
       "_model_name": "LayoutModel",
       "_view_count": null,
       "_view_module": "@jupyter-widgets/base",
       "_view_module_version": "1.2.0",
       "_view_name": "LayoutView",
       "align_content": null,
       "align_items": null,
       "align_self": null,
       "border": null,
       "bottom": null,
       "display": null,
       "flex": null,
       "flex_flow": null,
       "grid_area": null,
       "grid_auto_columns": null,
       "grid_auto_flow": null,
       "grid_auto_rows": null,
       "grid_column": null,
       "grid_gap": null,
       "grid_row": null,
       "grid_template_areas": null,
       "grid_template_columns": null,
       "grid_template_rows": null,
       "height": null,
       "justify_content": null,
       "justify_items": null,
       "left": null,
       "margin": null,
       "max_height": null,
       "max_width": null,
       "min_height": null,
       "min_width": null,
       "object_fit": null,
       "object_position": null,
       "order": null,
       "overflow": null,
       "overflow_x": null,
       "overflow_y": null,
       "padding": null,
       "right": null,
       "top": null,
       "visibility": null,
       "width": null
      }
     },
     "c29fa8719f1b43fe80b44a292fea6ad8": {
      "model_module": "@jupyter-widgets/controls",
      "model_module_version": "1.5.0",
      "model_name": "ProgressStyleModel",
      "state": {
       "_model_module": "@jupyter-widgets/controls",
       "_model_module_version": "1.5.0",
       "_model_name": "ProgressStyleModel",
       "_view_count": null,
       "_view_module": "@jupyter-widgets/base",
       "_view_module_version": "1.2.0",
       "_view_name": "StyleView",
       "bar_color": null,
       "description_width": ""
      }
     },
     "c2b4679efca645fa96c05fdff8036c60": {
      "model_module": "@jupyter-widgets/controls",
      "model_module_version": "1.5.0",
      "model_name": "FloatProgressModel",
      "state": {
       "_dom_classes": [],
       "_model_module": "@jupyter-widgets/controls",
       "_model_module_version": "1.5.0",
       "_model_name": "FloatProgressModel",
       "_view_count": null,
       "_view_module": "@jupyter-widgets/controls",
       "_view_module_version": "1.5.0",
       "_view_name": "ProgressView",
       "bar_style": "success",
       "description": "",
       "description_tooltip": null,
       "layout": "IPY_MODEL_d5e30d81f1984044a4aaf7232cc66b4e",
       "max": 371146213.0,
       "min": 0.0,
       "orientation": "horizontal",
       "style": "IPY_MODEL_d1890e7c9e254bccb93a27379e828105",
       "value": 371146213.0
      }
     },
     "c6cdcaf3f41c43419d70d6d39513e390": {
      "model_module": "@jupyter-widgets/base",
      "model_module_version": "1.2.0",
      "model_name": "LayoutModel",
      "state": {
       "_model_module": "@jupyter-widgets/base",
       "_model_module_version": "1.2.0",
       "_model_name": "LayoutModel",
       "_view_count": null,
       "_view_module": "@jupyter-widgets/base",
       "_view_module_version": "1.2.0",
       "_view_name": "LayoutView",
       "align_content": null,
       "align_items": null,
       "align_self": null,
       "border": null,
       "bottom": null,
       "display": null,
       "flex": null,
       "flex_flow": null,
       "grid_area": null,
       "grid_auto_columns": null,
       "grid_auto_flow": null,
       "grid_auto_rows": null,
       "grid_column": null,
       "grid_gap": null,
       "grid_row": null,
       "grid_template_areas": null,
       "grid_template_columns": null,
       "grid_template_rows": null,
       "height": null,
       "justify_content": null,
       "justify_items": null,
       "left": null,
       "margin": null,
       "max_height": null,
       "max_width": null,
       "min_height": null,
       "min_width": null,
       "object_fit": null,
       "object_position": null,
       "order": null,
       "overflow": null,
       "overflow_x": null,
       "overflow_y": null,
       "padding": null,
       "right": null,
       "top": null,
       "visibility": null,
       "width": null
      }
     },
     "c733bc41d97545bb831a3936dfcca1c8": {
      "model_module": "@jupyter-widgets/base",
      "model_module_version": "1.2.0",
      "model_name": "LayoutModel",
      "state": {
       "_model_module": "@jupyter-widgets/base",
       "_model_module_version": "1.2.0",
       "_model_name": "LayoutModel",
       "_view_count": null,
       "_view_module": "@jupyter-widgets/base",
       "_view_module_version": "1.2.0",
       "_view_name": "LayoutView",
       "align_content": null,
       "align_items": null,
       "align_self": null,
       "border": null,
       "bottom": null,
       "display": null,
       "flex": null,
       "flex_flow": null,
       "grid_area": null,
       "grid_auto_columns": null,
       "grid_auto_flow": null,
       "grid_auto_rows": null,
       "grid_column": null,
       "grid_gap": null,
       "grid_row": null,
       "grid_template_areas": null,
       "grid_template_columns": null,
       "grid_template_rows": null,
       "height": null,
       "justify_content": null,
       "justify_items": null,
       "left": null,
       "margin": null,
       "max_height": null,
       "max_width": null,
       "min_height": null,
       "min_width": null,
       "object_fit": null,
       "object_position": null,
       "order": null,
       "overflow": null,
       "overflow_x": null,
       "overflow_y": null,
       "padding": null,
       "right": null,
       "top": null,
       "visibility": null,
       "width": null
      }
     },
     "c7b0769b815a4111be33b2f838a2f27c": {
      "model_module": "@jupyter-widgets/controls",
      "model_module_version": "1.5.0",
      "model_name": "FloatProgressModel",
      "state": {
       "_dom_classes": [],
       "_model_module": "@jupyter-widgets/controls",
       "_model_module_version": "1.5.0",
       "_model_name": "FloatProgressModel",
       "_view_count": null,
       "_view_module": "@jupyter-widgets/controls",
       "_view_module_version": "1.5.0",
       "_view_name": "ProgressView",
       "bar_style": "",
       "description": "",
       "description_tooltip": null,
       "layout": "IPY_MODEL_b8feace243074f119b7a175205fc6fdb",
       "max": 1.0,
       "min": 0.0,
       "orientation": "horizontal",
       "style": "IPY_MODEL_09ee351a499c4357b8d9d1e78d33686f",
       "value": 0.0
      }
     },
     "c9aaa33d02db4bc29ea1a0b99e230b20": {
      "model_module": "@jupyter-widgets/controls",
      "model_module_version": "1.5.0",
      "model_name": "HBoxModel",
      "state": {
       "_dom_classes": [],
       "_model_module": "@jupyter-widgets/controls",
       "_model_module_version": "1.5.0",
       "_model_name": "HBoxModel",
       "_view_count": null,
       "_view_module": "@jupyter-widgets/controls",
       "_view_module_version": "1.5.0",
       "_view_name": "HBoxView",
       "box_style": "",
       "children": [
        "IPY_MODEL_d64e0a2d9a7e4c0bb70d67d295372003",
        "IPY_MODEL_7e02bc22a87a4bd2bc9291d7dedac260",
        "IPY_MODEL_07807a5c00e44a24871bfeb3a13ff066"
       ],
       "layout": "IPY_MODEL_513ff031f9e34f86b11a2970fdd0cc22"
      }
     },
     "c9f9cb2d0c124946821a1b6a51fe0525": {
      "model_module": "@jupyter-widgets/base",
      "model_module_version": "1.2.0",
      "model_name": "LayoutModel",
      "state": {
       "_model_module": "@jupyter-widgets/base",
       "_model_module_version": "1.2.0",
       "_model_name": "LayoutModel",
       "_view_count": null,
       "_view_module": "@jupyter-widgets/base",
       "_view_module_version": "1.2.0",
       "_view_name": "LayoutView",
       "align_content": null,
       "align_items": null,
       "align_self": null,
       "border": null,
       "bottom": null,
       "display": null,
       "flex": null,
       "flex_flow": null,
       "grid_area": null,
       "grid_auto_columns": null,
       "grid_auto_flow": null,
       "grid_auto_rows": null,
       "grid_column": null,
       "grid_gap": null,
       "grid_row": null,
       "grid_template_areas": null,
       "grid_template_columns": null,
       "grid_template_rows": null,
       "height": null,
       "justify_content": null,
       "justify_items": null,
       "left": null,
       "margin": null,
       "max_height": null,
       "max_width": null,
       "min_height": null,
       "min_width": null,
       "object_fit": null,
       "object_position": null,
       "order": null,
       "overflow": null,
       "overflow_x": null,
       "overflow_y": null,
       "padding": null,
       "right": null,
       "top": null,
       "visibility": null,
       "width": null
      }
     },
     "d1890e7c9e254bccb93a27379e828105": {
      "model_module": "@jupyter-widgets/controls",
      "model_module_version": "1.5.0",
      "model_name": "ProgressStyleModel",
      "state": {
       "_model_module": "@jupyter-widgets/controls",
       "_model_module_version": "1.5.0",
       "_model_name": "ProgressStyleModel",
       "_view_count": null,
       "_view_module": "@jupyter-widgets/base",
       "_view_module_version": "1.2.0",
       "_view_name": "StyleView",
       "bar_color": null,
       "description_width": ""
      }
     },
     "d5e30d81f1984044a4aaf7232cc66b4e": {
      "model_module": "@jupyter-widgets/base",
      "model_module_version": "1.2.0",
      "model_name": "LayoutModel",
      "state": {
       "_model_module": "@jupyter-widgets/base",
       "_model_module_version": "1.2.0",
       "_model_name": "LayoutModel",
       "_view_count": null,
       "_view_module": "@jupyter-widgets/base",
       "_view_module_version": "1.2.0",
       "_view_name": "LayoutView",
       "align_content": null,
       "align_items": null,
       "align_self": null,
       "border": null,
       "bottom": null,
       "display": null,
       "flex": null,
       "flex_flow": null,
       "grid_area": null,
       "grid_auto_columns": null,
       "grid_auto_flow": null,
       "grid_auto_rows": null,
       "grid_column": null,
       "grid_gap": null,
       "grid_row": null,
       "grid_template_areas": null,
       "grid_template_columns": null,
       "grid_template_rows": null,
       "height": null,
       "justify_content": null,
       "justify_items": null,
       "left": null,
       "margin": null,
       "max_height": null,
       "max_width": null,
       "min_height": null,
       "min_width": null,
       "object_fit": null,
       "object_position": null,
       "order": null,
       "overflow": null,
       "overflow_x": null,
       "overflow_y": null,
       "padding": null,
       "right": null,
       "top": null,
       "visibility": null,
       "width": null
      }
     },
     "d64e0a2d9a7e4c0bb70d67d295372003": {
      "model_module": "@jupyter-widgets/controls",
      "model_module_version": "1.5.0",
      "model_name": "HTMLModel",
      "state": {
       "_dom_classes": [],
       "_model_module": "@jupyter-widgets/controls",
       "_model_module_version": "1.5.0",
       "_model_name": "HTMLModel",
       "_view_count": null,
       "_view_module": "@jupyter-widgets/controls",
       "_view_module_version": "1.5.0",
       "_view_name": "HTMLView",
       "description": "",
       "description_tooltip": null,
       "layout": "IPY_MODEL_e8cb83af8b1d45c592ab4e5f36f8e780",
       "placeholder": "​",
       "style": "IPY_MODEL_ad59b12dd37a44ba84f651c877e7b571",
       "value": "Downloading spm.model: 100%"
      }
     },
     "d8a1846f12604c2fb810db096de3d6cd": {
      "model_module": "@jupyter-widgets/controls",
      "model_module_version": "1.5.0",
      "model_name": "DescriptionStyleModel",
      "state": {
       "_model_module": "@jupyter-widgets/controls",
       "_model_module_version": "1.5.0",
       "_model_name": "DescriptionStyleModel",
       "_view_count": null,
       "_view_module": "@jupyter-widgets/base",
       "_view_module_version": "1.2.0",
       "_view_name": "StyleView",
       "description_width": ""
      }
     },
     "db59707257b341d68b518ac1a5fc1438": {
      "model_module": "@jupyter-widgets/base",
      "model_module_version": "1.2.0",
      "model_name": "LayoutModel",
      "state": {
       "_model_module": "@jupyter-widgets/base",
       "_model_module_version": "1.2.0",
       "_model_name": "LayoutModel",
       "_view_count": null,
       "_view_module": "@jupyter-widgets/base",
       "_view_module_version": "1.2.0",
       "_view_name": "LayoutView",
       "align_content": null,
       "align_items": null,
       "align_self": null,
       "border": null,
       "bottom": null,
       "display": null,
       "flex": null,
       "flex_flow": null,
       "grid_area": null,
       "grid_auto_columns": null,
       "grid_auto_flow": null,
       "grid_auto_rows": null,
       "grid_column": null,
       "grid_gap": null,
       "grid_row": null,
       "grid_template_areas": null,
       "grid_template_columns": null,
       "grid_template_rows": null,
       "height": null,
       "justify_content": null,
       "justify_items": null,
       "left": null,
       "margin": null,
       "max_height": null,
       "max_width": null,
       "min_height": null,
       "min_width": null,
       "object_fit": null,
       "object_position": null,
       "order": null,
       "overflow": null,
       "overflow_x": null,
       "overflow_y": null,
       "padding": null,
       "right": null,
       "top": null,
       "visibility": null,
       "width": null
      }
     },
     "e0c6a0fc244c4e74b60a12d73ade3b18": {
      "model_module": "@jupyter-widgets/controls",
      "model_module_version": "1.5.0",
      "model_name": "ProgressStyleModel",
      "state": {
       "_model_module": "@jupyter-widgets/controls",
       "_model_module_version": "1.5.0",
       "_model_name": "ProgressStyleModel",
       "_view_count": null,
       "_view_module": "@jupyter-widgets/base",
       "_view_module_version": "1.2.0",
       "_view_name": "StyleView",
       "bar_color": null,
       "description_width": ""
      }
     },
     "e10bd38128fd4d27929466e0669618aa": {
      "model_module": "@jupyter-widgets/controls",
      "model_module_version": "1.5.0",
      "model_name": "HBoxModel",
      "state": {
       "_dom_classes": [],
       "_model_module": "@jupyter-widgets/controls",
       "_model_module_version": "1.5.0",
       "_model_name": "HBoxModel",
       "_view_count": null,
       "_view_module": "@jupyter-widgets/controls",
       "_view_module_version": "1.5.0",
       "_view_name": "HBoxView",
       "box_style": "",
       "children": [
        "IPY_MODEL_b4dfe1e3e60d4d0bae91ed5176e0376c",
        "IPY_MODEL_87d8a016c3d644d28c4f42bda4db3b70",
        "IPY_MODEL_656498345afb4c9f900c83ce4a17ac4a"
       ],
       "layout": "IPY_MODEL_8106533a0a6944c4b725f99307d70854"
      }
     },
     "e22ec50ae46e41a58056e952cab87e68": {
      "model_module": "@jupyter-widgets/controls",
      "model_module_version": "1.5.0",
      "model_name": "ProgressStyleModel",
      "state": {
       "_model_module": "@jupyter-widgets/controls",
       "_model_module_version": "1.5.0",
       "_model_name": "ProgressStyleModel",
       "_view_count": null,
       "_view_module": "@jupyter-widgets/base",
       "_view_module_version": "1.2.0",
       "_view_name": "StyleView",
       "bar_color": null,
       "description_width": ""
      }
     },
     "e3631aa70be84e6f98c6055c90336c57": {
      "model_module": "@jupyter-widgets/controls",
      "model_module_version": "1.5.0",
      "model_name": "DescriptionStyleModel",
      "state": {
       "_model_module": "@jupyter-widgets/controls",
       "_model_module_version": "1.5.0",
       "_model_name": "DescriptionStyleModel",
       "_view_count": null,
       "_view_module": "@jupyter-widgets/base",
       "_view_module_version": "1.2.0",
       "_view_name": "StyleView",
       "description_width": ""
      }
     },
     "e5dc0fab4cc54982ba194facd7040235": {
      "model_module": "@jupyter-widgets/base",
      "model_module_version": "1.2.0",
      "model_name": "LayoutModel",
      "state": {
       "_model_module": "@jupyter-widgets/base",
       "_model_module_version": "1.2.0",
       "_model_name": "LayoutModel",
       "_view_count": null,
       "_view_module": "@jupyter-widgets/base",
       "_view_module_version": "1.2.0",
       "_view_name": "LayoutView",
       "align_content": null,
       "align_items": null,
       "align_self": null,
       "border": null,
       "bottom": null,
       "display": null,
       "flex": null,
       "flex_flow": null,
       "grid_area": null,
       "grid_auto_columns": null,
       "grid_auto_flow": null,
       "grid_auto_rows": null,
       "grid_column": null,
       "grid_gap": null,
       "grid_row": null,
       "grid_template_areas": null,
       "grid_template_columns": null,
       "grid_template_rows": null,
       "height": null,
       "justify_content": null,
       "justify_items": null,
       "left": null,
       "margin": null,
       "max_height": null,
       "max_width": null,
       "min_height": null,
       "min_width": null,
       "object_fit": null,
       "object_position": null,
       "order": null,
       "overflow": null,
       "overflow_x": null,
       "overflow_y": null,
       "padding": null,
       "right": null,
       "top": null,
       "visibility": null,
       "width": null
      }
     },
     "e8cb83af8b1d45c592ab4e5f36f8e780": {
      "model_module": "@jupyter-widgets/base",
      "model_module_version": "1.2.0",
      "model_name": "LayoutModel",
      "state": {
       "_model_module": "@jupyter-widgets/base",
       "_model_module_version": "1.2.0",
       "_model_name": "LayoutModel",
       "_view_count": null,
       "_view_module": "@jupyter-widgets/base",
       "_view_module_version": "1.2.0",
       "_view_name": "LayoutView",
       "align_content": null,
       "align_items": null,
       "align_self": null,
       "border": null,
       "bottom": null,
       "display": null,
       "flex": null,
       "flex_flow": null,
       "grid_area": null,
       "grid_auto_columns": null,
       "grid_auto_flow": null,
       "grid_auto_rows": null,
       "grid_column": null,
       "grid_gap": null,
       "grid_row": null,
       "grid_template_areas": null,
       "grid_template_columns": null,
       "grid_template_rows": null,
       "height": null,
       "justify_content": null,
       "justify_items": null,
       "left": null,
       "margin": null,
       "max_height": null,
       "max_width": null,
       "min_height": null,
       "min_width": null,
       "object_fit": null,
       "object_position": null,
       "order": null,
       "overflow": null,
       "overflow_x": null,
       "overflow_y": null,
       "padding": null,
       "right": null,
       "top": null,
       "visibility": null,
       "width": null
      }
     },
     "ecba59d1ddf74ccf9c18cfd71dc10368": {
      "model_module": "@jupyter-widgets/controls",
      "model_module_version": "1.5.0",
      "model_name": "FloatProgressModel",
      "state": {
       "_dom_classes": [],
       "_model_module": "@jupyter-widgets/controls",
       "_model_module_version": "1.5.0",
       "_model_name": "FloatProgressModel",
       "_view_count": null,
       "_view_module": "@jupyter-widgets/controls",
       "_view_module_version": "1.5.0",
       "_view_name": "ProgressView",
       "bar_style": "",
       "description": "",
       "description_tooltip": null,
       "layout": "IPY_MODEL_db59707257b341d68b518ac1a5fc1438",
       "max": 1.0,
       "min": 0.0,
       "orientation": "horizontal",
       "style": "IPY_MODEL_c29fa8719f1b43fe80b44a292fea6ad8",
       "value": 1.0
      }
     },
     "ede3d692332845abb7222a12ef7e66a0": {
      "model_module": "@jupyter-widgets/base",
      "model_module_version": "1.2.0",
      "model_name": "LayoutModel",
      "state": {
       "_model_module": "@jupyter-widgets/base",
       "_model_module_version": "1.2.0",
       "_model_name": "LayoutModel",
       "_view_count": null,
       "_view_module": "@jupyter-widgets/base",
       "_view_module_version": "1.2.0",
       "_view_name": "LayoutView",
       "align_content": null,
       "align_items": null,
       "align_self": null,
       "border": null,
       "bottom": null,
       "display": null,
       "flex": null,
       "flex_flow": null,
       "grid_area": null,
       "grid_auto_columns": null,
       "grid_auto_flow": null,
       "grid_auto_rows": null,
       "grid_column": null,
       "grid_gap": null,
       "grid_row": null,
       "grid_template_areas": null,
       "grid_template_columns": null,
       "grid_template_rows": null,
       "height": null,
       "justify_content": null,
       "justify_items": null,
       "left": null,
       "margin": null,
       "max_height": null,
       "max_width": null,
       "min_height": null,
       "min_width": null,
       "object_fit": null,
       "object_position": null,
       "order": null,
       "overflow": null,
       "overflow_x": null,
       "overflow_y": null,
       "padding": null,
       "right": null,
       "top": null,
       "visibility": null,
       "width": null
      }
     },
     "efe7c20732124101ab26fd0526f4c348": {
      "model_module": "@jupyter-widgets/controls",
      "model_module_version": "1.5.0",
      "model_name": "HBoxModel",
      "state": {
       "_dom_classes": [],
       "_model_module": "@jupyter-widgets/controls",
       "_model_module_version": "1.5.0",
       "_model_name": "HBoxModel",
       "_view_count": null,
       "_view_module": "@jupyter-widgets/controls",
       "_view_module_version": "1.5.0",
       "_view_name": "HBoxView",
       "box_style": "",
       "children": [
        "IPY_MODEL_a657be9dfd60442d8bd22de0bcad1d02",
        "IPY_MODEL_80e91a9ed6cd4c97bfa86cf99813bfc0",
        "IPY_MODEL_10c14cd331ad4f9dadad4d1b59b44085"
       ],
       "layout": "IPY_MODEL_6160cb41e46e404c930618a6e01c8b5d"
      }
     },
     "f4336d9221d2467696e5df86b0456eca": {
      "model_module": "@jupyter-widgets/controls",
      "model_module_version": "1.5.0",
      "model_name": "VBoxModel",
      "state": {
       "_dom_classes": [],
       "_model_module": "@jupyter-widgets/controls",
       "_model_module_version": "1.5.0",
       "_model_name": "VBoxModel",
       "_view_count": null,
       "_view_module": "@jupyter-widgets/controls",
       "_view_module_version": "1.5.0",
       "_view_name": "VBoxView",
       "box_style": "",
       "children": [
        "IPY_MODEL_7e1df7addee84d5b8d2c328bc1a7f1fb",
        "IPY_MODEL_c7b0769b815a4111be33b2f838a2f27c"
       ],
       "layout": "IPY_MODEL_190d7cef58ee4d18b46d2d73738f7f6b"
      }
     },
     "f785e14eca194e14820fd316b5eca873": {
      "model_module": "@jupyter-widgets/controls",
      "model_module_version": "1.5.0",
      "model_name": "HTMLModel",
      "state": {
       "_dom_classes": [],
       "_model_module": "@jupyter-widgets/controls",
       "_model_module_version": "1.5.0",
       "_model_name": "HTMLModel",
       "_view_count": null,
       "_view_module": "@jupyter-widgets/controls",
       "_view_module_version": "1.5.0",
       "_view_name": "HTMLView",
       "description": "",
       "description_tooltip": null,
       "layout": "IPY_MODEL_bbcdb1c449a2455cbf06b04526795ef4",
       "placeholder": "​",
       "style": "IPY_MODEL_b87018123e084861b8290911b58f5e6b",
       "value": " 354M/354M [00:08&lt;00:00, 43.3MB/s]"
      }
     },
     "f86a71ee3ed140038430dbad63854597": {
      "model_module": "@jupyter-widgets/base",
      "model_module_version": "1.2.0",
      "model_name": "LayoutModel",
      "state": {
       "_model_module": "@jupyter-widgets/base",
       "_model_module_version": "1.2.0",
       "_model_name": "LayoutModel",
       "_view_count": null,
       "_view_module": "@jupyter-widgets/base",
       "_view_module_version": "1.2.0",
       "_view_name": "LayoutView",
       "align_content": null,
       "align_items": null,
       "align_self": null,
       "border": null,
       "bottom": null,
       "display": null,
       "flex": null,
       "flex_flow": null,
       "grid_area": null,
       "grid_auto_columns": null,
       "grid_auto_flow": null,
       "grid_auto_rows": null,
       "grid_column": null,
       "grid_gap": null,
       "grid_row": null,
       "grid_template_areas": null,
       "grid_template_columns": null,
       "grid_template_rows": null,
       "height": null,
       "justify_content": null,
       "justify_items": null,
       "left": null,
       "margin": null,
       "max_height": null,
       "max_width": null,
       "min_height": null,
       "min_width": null,
       "object_fit": null,
       "object_position": null,
       "order": null,
       "overflow": null,
       "overflow_x": null,
       "overflow_y": null,
       "padding": null,
       "right": null,
       "top": null,
       "visibility": null,
       "width": null
      }
     }
    },
    "version_major": 2,
    "version_minor": 0
   }
  }
 },
 "nbformat": 4,
 "nbformat_minor": 5
}
